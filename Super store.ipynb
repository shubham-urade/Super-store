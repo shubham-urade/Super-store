{
 "cells": [
  {
   "cell_type": "code",
   "execution_count": 1,
   "id": "31ea3d7e",
   "metadata": {},
   "outputs": [],
   "source": [
    "import pandas as pd\n",
    "import numpy as np\n",
    "\n",
    "from sklearn.model_selection import train_test_split\n",
    "from sklearn.feature_extraction.text import TfidfVectorizer, CountVectorizer\n",
    "\n",
    "import matplotlib.pyplot as plt\n",
    "import seaborn as sns\n",
    "\n",
    "%matplotlib inline\n",
    "\n",
    "\n",
    "from sklearn.neighbors import KNeighborsClassifier\n",
    "from sklearn.svm import SVC\n",
    "from sklearn.naive_bayes import GaussianNB\n",
    "\n",
    "import warnings   # To ignore any warnings \n",
    "warnings.filterwarnings(\"ignore\")"
   ]
  },
  {
   "cell_type": "code",
   "execution_count": 2,
   "id": "947ea808",
   "metadata": {},
   "outputs": [
    {
     "data": {
      "text/html": [
       "<div>\n",
       "<style scoped>\n",
       "    .dataframe tbody tr th:only-of-type {\n",
       "        vertical-align: middle;\n",
       "    }\n",
       "\n",
       "    .dataframe tbody tr th {\n",
       "        vertical-align: top;\n",
       "    }\n",
       "\n",
       "    .dataframe thead th {\n",
       "        text-align: right;\n",
       "    }\n",
       "</style>\n",
       "<table border=\"1\" class=\"dataframe\">\n",
       "  <thead>\n",
       "    <tr style=\"text-align: right;\">\n",
       "      <th></th>\n",
       "      <th>Ship Mode</th>\n",
       "      <th>Segment</th>\n",
       "      <th>Country</th>\n",
       "      <th>City</th>\n",
       "      <th>State</th>\n",
       "      <th>Postal Code</th>\n",
       "      <th>Region</th>\n",
       "      <th>Category</th>\n",
       "      <th>Sub-Category</th>\n",
       "      <th>Sales</th>\n",
       "      <th>Quantity</th>\n",
       "      <th>Discount</th>\n",
       "      <th>Profit</th>\n",
       "    </tr>\n",
       "  </thead>\n",
       "  <tbody>\n",
       "    <tr>\n",
       "      <th>0</th>\n",
       "      <td>Second Class</td>\n",
       "      <td>Consumer</td>\n",
       "      <td>United States</td>\n",
       "      <td>Henderson</td>\n",
       "      <td>Kentucky</td>\n",
       "      <td>42420</td>\n",
       "      <td>South</td>\n",
       "      <td>Furniture</td>\n",
       "      <td>Bookcases</td>\n",
       "      <td>261.9600</td>\n",
       "      <td>2</td>\n",
       "      <td>0.00</td>\n",
       "      <td>41.9136</td>\n",
       "    </tr>\n",
       "    <tr>\n",
       "      <th>1</th>\n",
       "      <td>Second Class</td>\n",
       "      <td>Consumer</td>\n",
       "      <td>United States</td>\n",
       "      <td>Henderson</td>\n",
       "      <td>Kentucky</td>\n",
       "      <td>42420</td>\n",
       "      <td>South</td>\n",
       "      <td>Furniture</td>\n",
       "      <td>Chairs</td>\n",
       "      <td>731.9400</td>\n",
       "      <td>3</td>\n",
       "      <td>0.00</td>\n",
       "      <td>219.5820</td>\n",
       "    </tr>\n",
       "    <tr>\n",
       "      <th>2</th>\n",
       "      <td>Second Class</td>\n",
       "      <td>Corporate</td>\n",
       "      <td>United States</td>\n",
       "      <td>Los Angeles</td>\n",
       "      <td>California</td>\n",
       "      <td>90036</td>\n",
       "      <td>West</td>\n",
       "      <td>Office Supplies</td>\n",
       "      <td>Labels</td>\n",
       "      <td>14.6200</td>\n",
       "      <td>2</td>\n",
       "      <td>0.00</td>\n",
       "      <td>6.8714</td>\n",
       "    </tr>\n",
       "    <tr>\n",
       "      <th>3</th>\n",
       "      <td>Standard Class</td>\n",
       "      <td>Consumer</td>\n",
       "      <td>United States</td>\n",
       "      <td>Fort Lauderdale</td>\n",
       "      <td>Florida</td>\n",
       "      <td>33311</td>\n",
       "      <td>South</td>\n",
       "      <td>Furniture</td>\n",
       "      <td>Tables</td>\n",
       "      <td>957.5775</td>\n",
       "      <td>5</td>\n",
       "      <td>0.45</td>\n",
       "      <td>-383.0310</td>\n",
       "    </tr>\n",
       "    <tr>\n",
       "      <th>4</th>\n",
       "      <td>Standard Class</td>\n",
       "      <td>Consumer</td>\n",
       "      <td>United States</td>\n",
       "      <td>Fort Lauderdale</td>\n",
       "      <td>Florida</td>\n",
       "      <td>33311</td>\n",
       "      <td>South</td>\n",
       "      <td>Office Supplies</td>\n",
       "      <td>Storage</td>\n",
       "      <td>22.3680</td>\n",
       "      <td>2</td>\n",
       "      <td>0.20</td>\n",
       "      <td>2.5164</td>\n",
       "    </tr>\n",
       "    <tr>\n",
       "      <th>...</th>\n",
       "      <td>...</td>\n",
       "      <td>...</td>\n",
       "      <td>...</td>\n",
       "      <td>...</td>\n",
       "      <td>...</td>\n",
       "      <td>...</td>\n",
       "      <td>...</td>\n",
       "      <td>...</td>\n",
       "      <td>...</td>\n",
       "      <td>...</td>\n",
       "      <td>...</td>\n",
       "      <td>...</td>\n",
       "      <td>...</td>\n",
       "    </tr>\n",
       "    <tr>\n",
       "      <th>9989</th>\n",
       "      <td>Second Class</td>\n",
       "      <td>Consumer</td>\n",
       "      <td>United States</td>\n",
       "      <td>Miami</td>\n",
       "      <td>Florida</td>\n",
       "      <td>33180</td>\n",
       "      <td>South</td>\n",
       "      <td>Furniture</td>\n",
       "      <td>Furnishings</td>\n",
       "      <td>25.2480</td>\n",
       "      <td>3</td>\n",
       "      <td>0.20</td>\n",
       "      <td>4.1028</td>\n",
       "    </tr>\n",
       "    <tr>\n",
       "      <th>9990</th>\n",
       "      <td>Standard Class</td>\n",
       "      <td>Consumer</td>\n",
       "      <td>United States</td>\n",
       "      <td>Costa Mesa</td>\n",
       "      <td>California</td>\n",
       "      <td>92627</td>\n",
       "      <td>West</td>\n",
       "      <td>Furniture</td>\n",
       "      <td>Furnishings</td>\n",
       "      <td>91.9600</td>\n",
       "      <td>2</td>\n",
       "      <td>0.00</td>\n",
       "      <td>15.6332</td>\n",
       "    </tr>\n",
       "    <tr>\n",
       "      <th>9991</th>\n",
       "      <td>Standard Class</td>\n",
       "      <td>Consumer</td>\n",
       "      <td>United States</td>\n",
       "      <td>Costa Mesa</td>\n",
       "      <td>California</td>\n",
       "      <td>92627</td>\n",
       "      <td>West</td>\n",
       "      <td>Technology</td>\n",
       "      <td>Phones</td>\n",
       "      <td>258.5760</td>\n",
       "      <td>2</td>\n",
       "      <td>0.20</td>\n",
       "      <td>19.3932</td>\n",
       "    </tr>\n",
       "    <tr>\n",
       "      <th>9992</th>\n",
       "      <td>Standard Class</td>\n",
       "      <td>Consumer</td>\n",
       "      <td>United States</td>\n",
       "      <td>Costa Mesa</td>\n",
       "      <td>California</td>\n",
       "      <td>92627</td>\n",
       "      <td>West</td>\n",
       "      <td>Office Supplies</td>\n",
       "      <td>Paper</td>\n",
       "      <td>29.6000</td>\n",
       "      <td>4</td>\n",
       "      <td>0.00</td>\n",
       "      <td>13.3200</td>\n",
       "    </tr>\n",
       "    <tr>\n",
       "      <th>9993</th>\n",
       "      <td>Second Class</td>\n",
       "      <td>Consumer</td>\n",
       "      <td>United States</td>\n",
       "      <td>Westminster</td>\n",
       "      <td>California</td>\n",
       "      <td>92683</td>\n",
       "      <td>West</td>\n",
       "      <td>Office Supplies</td>\n",
       "      <td>Appliances</td>\n",
       "      <td>243.1600</td>\n",
       "      <td>2</td>\n",
       "      <td>0.00</td>\n",
       "      <td>72.9480</td>\n",
       "    </tr>\n",
       "  </tbody>\n",
       "</table>\n",
       "<p>9994 rows × 13 columns</p>\n",
       "</div>"
      ],
      "text/plain": [
       "           Ship Mode    Segment        Country             City       State  \\\n",
       "0       Second Class   Consumer  United States        Henderson    Kentucky   \n",
       "1       Second Class   Consumer  United States        Henderson    Kentucky   \n",
       "2       Second Class  Corporate  United States      Los Angeles  California   \n",
       "3     Standard Class   Consumer  United States  Fort Lauderdale     Florida   \n",
       "4     Standard Class   Consumer  United States  Fort Lauderdale     Florida   \n",
       "...              ...        ...            ...              ...         ...   \n",
       "9989    Second Class   Consumer  United States            Miami     Florida   \n",
       "9990  Standard Class   Consumer  United States       Costa Mesa  California   \n",
       "9991  Standard Class   Consumer  United States       Costa Mesa  California   \n",
       "9992  Standard Class   Consumer  United States       Costa Mesa  California   \n",
       "9993    Second Class   Consumer  United States      Westminster  California   \n",
       "\n",
       "      Postal Code Region         Category Sub-Category     Sales  Quantity  \\\n",
       "0           42420  South        Furniture    Bookcases  261.9600         2   \n",
       "1           42420  South        Furniture       Chairs  731.9400         3   \n",
       "2           90036   West  Office Supplies       Labels   14.6200         2   \n",
       "3           33311  South        Furniture       Tables  957.5775         5   \n",
       "4           33311  South  Office Supplies      Storage   22.3680         2   \n",
       "...           ...    ...              ...          ...       ...       ...   \n",
       "9989        33180  South        Furniture  Furnishings   25.2480         3   \n",
       "9990        92627   West        Furniture  Furnishings   91.9600         2   \n",
       "9991        92627   West       Technology       Phones  258.5760         2   \n",
       "9992        92627   West  Office Supplies        Paper   29.6000         4   \n",
       "9993        92683   West  Office Supplies   Appliances  243.1600         2   \n",
       "\n",
       "      Discount    Profit  \n",
       "0         0.00   41.9136  \n",
       "1         0.00  219.5820  \n",
       "2         0.00    6.8714  \n",
       "3         0.45 -383.0310  \n",
       "4         0.20    2.5164  \n",
       "...        ...       ...  \n",
       "9989      0.20    4.1028  \n",
       "9990      0.00   15.6332  \n",
       "9991      0.20   19.3932  \n",
       "9992      0.00   13.3200  \n",
       "9993      0.00   72.9480  \n",
       "\n",
       "[9994 rows x 13 columns]"
      ]
     },
     "execution_count": 2,
     "metadata": {},
     "output_type": "execute_result"
    }
   ],
   "source": [
    "store = pd.read_csv(r\"C:\\Users\\Admin\\Downloads\\SampleSuperstore\\SampleSuperstore.csv\")\n",
    "store"
   ]
  },
  {
   "cell_type": "code",
   "execution_count": 3,
   "id": "63b68380",
   "metadata": {},
   "outputs": [],
   "source": [
    "store_original=store.copy() "
   ]
  },
  {
   "cell_type": "code",
   "execution_count": 4,
   "id": "5d2a606c",
   "metadata": {},
   "outputs": [
    {
     "data": {
      "text/plain": [
       "Index(['Ship Mode', 'Segment', 'Country', 'City', 'State', 'Postal Code',\n",
       "       'Region', 'Category', 'Sub-Category', 'Sales', 'Quantity', 'Discount',\n",
       "       'Profit'],\n",
       "      dtype='object')"
      ]
     },
     "execution_count": 4,
     "metadata": {},
     "output_type": "execute_result"
    }
   ],
   "source": [
    "store.columns"
   ]
  },
  {
   "cell_type": "code",
   "execution_count": 5,
   "id": "7500220e",
   "metadata": {},
   "outputs": [
    {
     "name": "stdout",
     "output_type": "stream",
     "text": [
      "<class 'pandas.core.frame.DataFrame'>\n",
      "RangeIndex: 9994 entries, 0 to 9993\n",
      "Data columns (total 13 columns):\n",
      " #   Column        Non-Null Count  Dtype  \n",
      "---  ------        --------------  -----  \n",
      " 0   Ship Mode     9994 non-null   object \n",
      " 1   Segment       9994 non-null   object \n",
      " 2   Country       9994 non-null   object \n",
      " 3   City          9994 non-null   object \n",
      " 4   State         9994 non-null   object \n",
      " 5   Postal Code   9994 non-null   int64  \n",
      " 6   Region        9994 non-null   object \n",
      " 7   Category      9994 non-null   object \n",
      " 8   Sub-Category  9994 non-null   object \n",
      " 9   Sales         9994 non-null   float64\n",
      " 10  Quantity      9994 non-null   int64  \n",
      " 11  Discount      9994 non-null   float64\n",
      " 12  Profit        9994 non-null   float64\n",
      "dtypes: float64(3), int64(2), object(8)\n",
      "memory usage: 1015.1+ KB\n"
     ]
    }
   ],
   "source": [
    "store.info()"
   ]
  },
  {
   "cell_type": "code",
   "execution_count": 6,
   "id": "bb22e37e",
   "metadata": {},
   "outputs": [
    {
     "data": {
      "text/plain": [
       "Ship Mode       0\n",
       "Segment         0\n",
       "Country         0\n",
       "City            0\n",
       "State           0\n",
       "Postal Code     0\n",
       "Region          0\n",
       "Category        0\n",
       "Sub-Category    0\n",
       "Sales           0\n",
       "Quantity        0\n",
       "Discount        0\n",
       "Profit          0\n",
       "dtype: int64"
      ]
     },
     "execution_count": 6,
     "metadata": {},
     "output_type": "execute_result"
    }
   ],
   "source": [
    "store.isnull().sum()"
   ]
  },
  {
   "cell_type": "markdown",
   "id": "abadfa23",
   "metadata": {},
   "source": [
    "## Target Variable"
   ]
  },
  {
   "cell_type": "code",
   "execution_count": 7,
   "id": "eba0b3c6",
   "metadata": {},
   "outputs": [],
   "source": [
    "store['Profit'] = store['Profit'].astype(float)"
   ]
  },
  {
   "cell_type": "code",
   "execution_count": 8,
   "id": "ac96ff38",
   "metadata": {},
   "outputs": [],
   "source": [
    "store['Profit_cat'] = np.where(store['Profit'] >= 0, 'P','L')"
   ]
  },
  {
   "cell_type": "code",
   "execution_count": 9,
   "id": "28b6ea84",
   "metadata": {},
   "outputs": [
    {
     "data": {
      "text/plain": [
       "P    8123\n",
       "L    1871\n",
       "Name: Profit_cat, dtype: int64"
      ]
     },
     "execution_count": 9,
     "metadata": {},
     "output_type": "execute_result"
    }
   ],
   "source": [
    "store['Profit_cat'].value_counts()"
   ]
  },
  {
   "cell_type": "code",
   "execution_count": 10,
   "id": "9df776ce",
   "metadata": {},
   "outputs": [
    {
     "data": {
      "text/plain": [
       "United States    9994\n",
       "Name: Country, dtype: int64"
      ]
     },
     "execution_count": 10,
     "metadata": {},
     "output_type": "execute_result"
    }
   ],
   "source": [
    "store['Country'].value_counts()"
   ]
  },
  {
   "cell_type": "code",
   "execution_count": 11,
   "id": "8ea93756",
   "metadata": {},
   "outputs": [
    {
     "data": {
      "text/plain": [
       "P    0.812788\n",
       "L    0.187212\n",
       "Name: Profit_cat, dtype: float64"
      ]
     },
     "execution_count": 11,
     "metadata": {},
     "output_type": "execute_result"
    }
   ],
   "source": [
    "store['Profit_cat'].value_counts(normalize=True)"
   ]
  },
  {
   "cell_type": "code",
   "execution_count": 12,
   "id": "4051c522",
   "metadata": {},
   "outputs": [
    {
     "data": {
      "text/plain": [
       "<AxesSubplot:>"
      ]
     },
     "execution_count": 12,
     "metadata": {},
     "output_type": "execute_result"
    },
    {
     "data": {
      "image/png": "[encoded data removed]",
      "text/plain": [
       "<Figure size 640x480 with 1 Axes>"
      ]
     },
     "metadata": {},
     "output_type": "display_data"
    }
   ],
   "source": [
    "store['Profit_cat'].value_counts().plot.bar()"
   ]
  },
  {
   "cell_type": "code",
   "execution_count": 13,
   "id": "fa40109e",
   "metadata": {},
   "outputs": [
    {
     "data": {
      "text/plain": [
       "((9994, 13), (9994,))"
      ]
     },
     "execution_count": 13,
     "metadata": {},
     "output_type": "execute_result"
    }
   ],
   "source": [
    "X = store.drop('Profit',axis= 1)\n",
    "Y = store['Profit']\n",
    "\n",
    "X.shape, Y.shape"
   ]
  },
  {
   "cell_type": "markdown",
   "id": "693a789b",
   "metadata": {},
   "source": [
    "## Independent varaible\n"
   ]
  },
  {
   "cell_type": "markdown",
   "id": "105d1583",
   "metadata": {},
   "source": [
    "1 catogorical (a-nominal , b-ordinal)\n",
    "2 Numerical (a-district ,b-continous)"
   ]
  },
  {
   "cell_type": "markdown",
   "id": "02581df1",
   "metadata": {},
   "source": [
    "### 1 Catogorical"
   ]
  },
  {
   "cell_type": "code",
   "execution_count": 14,
   "id": "44f848d8",
   "metadata": {},
   "outputs": [
    {
     "data": {
      "image/png": "[encoded data removed]",
      "text/plain": [
       "<Figure size 2000x1000 with 4 Axes>"
      ]
     },
     "metadata": {},
     "output_type": "display_data"
    }
   ],
   "source": [
    "plt.figure(figsize=(20,10))\n",
    "\n",
    "plt.subplot(221)\n",
    "# store['Segment'].value_counts().plot.bar(figsize=(20,10), title= 'Segment')\n",
    "sns.countplot(x='Segment', data=store).set(title='Segment');\n",
    "\n",
    "plt.subplot(222)\n",
    "# store['Category'].value_counts().plot.bar(figsize=(20,10), title= 'Category')\n",
    "sns.countplot(x='Category', data=store).set(title='Category');\n",
    "\n",
    "plt.subplot(223)\n",
    "sns.countplot(x='Ship Mode', data=store).set(title='Ship Mode');\n",
    "\n",
    "plt.subplot(224)\n",
    "sns.countplot(x='Region', data=store,  hue= store['Ship Mode']).set(title='Region');"
   ]
  },
  {
   "cell_type": "code",
   "execution_count": null,
   "id": "8ad7b183",
   "metadata": {},
   "outputs": [],
   "source": []
  },
  {
   "cell_type": "code",
   "execution_count": null,
   "id": "9631f9a1",
   "metadata": {},
   "outputs": [],
   "source": []
  },
  {
   "cell_type": "code",
   "execution_count": null,
   "id": "3c46f2d5",
   "metadata": {},
   "outputs": [],
   "source": []
  },
  {
   "cell_type": "markdown",
   "id": "73d415eb",
   "metadata": {},
   "source": [
    "### 2. Numerical"
   ]
  },
  {
   "cell_type": "code",
   "execution_count": 15,
   "id": "9a80edac",
   "metadata": {},
   "outputs": [
    {
     "data": {
      "image/png": "[encoded data removed]",
      "text/plain": [
       "<Figure size 1000x500 with 1 Axes>"
      ]
     },
     "metadata": {},
     "output_type": "display_data"
    },
    {
     "data": {
      "image/png": "[encoded data removed]",
      "text/plain": [
       "<Figure size 1000x500 with 1 Axes>"
      ]
     },
     "metadata": {},
     "output_type": "display_data"
    }
   ],
   "source": [
    "# grouping=store.groupby('State').agg({'Quantity':'mean'})\n",
    "grouping=store.groupby('State').agg({'Quantity':'sum','Sales':'mean','Discount':'mean','Profit':'mean'})\n",
    "\n",
    "top_Quantity = grouping.nlargest(10,'Quantity')\n",
    "plt.figure(figsize=(10,5))\n",
    "plt.title('State vs Quantity')\n",
    "sns.lineplot(x='State', y='Quantity', data=top_Quantity.reset_index())\n",
    "plt.xticks(rotation=90);\n",
    "\n",
    "avg_sale = grouping.nlargest(10,'Sales')\n",
    "plt.figure(figsize=(10,5))\n",
    "plt.title('State vs Avg Sales')\n",
    "sns.lineplot(x='State', y='Sales',markers='O',ms=5, data=avg_sale.reset_index())\n",
    "plt.xticks(rotation=90);\n",
    "\n"
   ]
  },
  {
   "cell_type": "code",
   "execution_count": 16,
   "id": "15d3b500",
   "metadata": {},
   "outputs": [
    {
     "data": {
      "image/png": "[encoded data removed]",
      "text/plain": [
       "<Figure size 1000x500 with 1 Axes>"
      ]
     },
     "metadata": {},
     "output_type": "display_data"
    },
    {
     "data": {
      "image/png": "[encoded data removed]",
      "text/plain": [
       "<Figure size 1000x500 with 1 Axes>"
      ]
     },
     "metadata": {},
     "output_type": "display_data"
    }
   ],
   "source": [
    "avg_discount = grouping.nlargest(10,'Discount') \n",
    "plt.figure(figsize=(10,5))\n",
    "plt.title('State vs Avg Discount')\n",
    "sns.lineplot(x='State',y='Discount', data=avg_discount.reset_index());\n",
    "plt.xticks(rotation=90);\n",
    "\n",
    "avg_profit = grouping.nlargest(10,'Profit') \n",
    "plt.figure(figsize=(10,5))\n",
    "plt.title('State vs Avg Profit')\n",
    "sns.lineplot(x='State',y='Profit', data=avg_profit.reset_index());\n",
    "plt.xticks(rotation=90);"
   ]
  },
  {
   "cell_type": "code",
   "execution_count": 17,
   "id": "a38392da",
   "metadata": {},
   "outputs": [
    {
     "data": {
      "text/plain": [
       "<AxesSubplot:xlabel='Category'>"
      ]
     },
     "execution_count": 17,
     "metadata": {},
     "output_type": "execute_result"
    },
    {
     "data": {
      "image/png": "[encoded data removed]",
      "text/plain": [
       "<Figure size 640x480 with 1 Axes>"
      ]
     },
     "metadata": {},
     "output_type": "display_data"
    }
   ],
   "source": [
    "pd.crosstab(store['Category'],store['Sub-Category']).plot(kind = 'bar',legend = False)\n",
    "\n"
   ]
  },
  {
   "cell_type": "code",
   "execution_count": 18,
   "id": "dd1798fa",
   "metadata": {},
   "outputs": [],
   "source": [
    "df = pd.DataFrame(store.groupby(['Category','Sub-Category']).count().iloc[:,0]).reset_index()\n",
    "pivot = pd.pivot_table(data=df, index=['Category'], columns=['Sub-Category'], values='Ship Mode')\n",
    "\n",
    "# pivot = pd.pivot_table(data=df, index=['Category'], columns=['Sub-Category'], values='Ship Mode')\n",
    "# pivot.plot()"
   ]
  },
  {
   "cell_type": "code",
   "execution_count": 19,
   "id": "1b6b7df4",
   "metadata": {},
   "outputs": [
    {
     "data": {
      "text/plain": [
       "<AxesSubplot:xlabel='Ship Mode'>"
      ]
     },
     "execution_count": 19,
     "metadata": {},
     "output_type": "execute_result"
    },
    {
     "data": {
      "image/png": "[encoded data removed]",
      "text/plain": [
       "<Figure size 640x480 with 1 Axes>"
      ]
     },
     "metadata": {},
     "output_type": "display_data"
    }
   ],
   "source": [
    "store.groupby('Ship Mode').agg({'Profit':'mean'}).plot(kind='line')"
   ]
  },
  {
   "cell_type": "code",
   "execution_count": 20,
   "id": "65bd828a",
   "metadata": {},
   "outputs": [
    {
     "data": {
      "image/png": "[encoded data removed]",
      "text/plain": [
       "<Figure size 640x480 with 1 Axes>"
      ]
     },
     "metadata": {},
     "output_type": "display_data"
    }
   ],
   "source": [
    "# store.groupby('Discount').agg({'Profit':'mean'}).plot(kind='line')\n",
    "plt.plot(store.groupby('Discount').agg({'Profit':'mean'}),marker='o',ms=3.5)\n",
    "plt.grid()\n",
    "\n"
   ]
  },
  {
   "cell_type": "code",
   "execution_count": null,
   "id": "6b4725f9",
   "metadata": {},
   "outputs": [],
   "source": []
  },
  {
   "cell_type": "markdown",
   "id": "633872cf",
   "metadata": {},
   "source": [
    "### Independent Variable (Numerical)"
   ]
  },
  {
   "cell_type": "code",
   "execution_count": 21,
   "id": "80893637",
   "metadata": {},
   "outputs": [
    {
     "data": {
      "image/png": "[encoded data removed]",
      "text/plain": [
       "<Figure size 640x480 with 4 Axes>"
      ]
     },
     "metadata": {},
     "output_type": "display_data"
    }
   ],
   "source": [
    "plt.subplot(221)\n",
    "sns.distplot(store['Profit']);\n",
    "\n",
    "plt.subplot(222)\n",
    "sns.distplot(store['Discount']);\n",
    "\n",
    "plt.subplot(223)\n",
    "sns.distplot(store['Sales']);\n",
    "\n",
    "plt.subplot(224)\n",
    "sns.distplot(store['Quantity']);"
   ]
  },
  {
   "cell_type": "code",
   "execution_count": 22,
   "id": "301095d1",
   "metadata": {},
   "outputs": [],
   "source": [
    "store['Sales_log'] = np.log(store['Sales']) \n"
   ]
  },
  {
   "cell_type": "code",
   "execution_count": 23,
   "id": "2c5d1cc3",
   "metadata": {},
   "outputs": [
    {
     "data": {
      "text/plain": [
       "<AxesSubplot:xlabel='Sales_log', ylabel='Density'>"
      ]
     },
     "execution_count": 23,
     "metadata": {},
     "output_type": "execute_result"
    },
    {
     "data": {
      "image/png": "[encoded data removed]",
      "text/plain": [
       "<Figure size 640x480 with 1 Axes>"
      ]
     },
     "metadata": {},
     "output_type": "display_data"
    }
   ],
   "source": [
    "# store['Sales_log'].hist(bins=20) \n",
    "sns.distplot(store['Sales_log'])"
   ]
  },
  {
   "cell_type": "markdown",
   "id": "2c7e4b90",
   "metadata": {},
   "source": [
    "## Categorical Independent Variable v/s Target Variable¶\n"
   ]
  },
  {
   "cell_type": "code",
   "execution_count": 24,
   "id": "2944c481",
   "metadata": {},
   "outputs": [],
   "source": [
    "state=pd.crosstab(store['State'],store['Profit_cat']) \n",
    "Ship_Mode = pd.crosstab(store['Ship Mode'],store['Profit_cat'])\n",
    "Segment = pd.crosstab(store['Segment'],store['Profit_cat'])\n",
    "Category = pd.crosstab(store['Category'],store['Profit_cat'])\n"
   ]
  },
  {
   "cell_type": "code",
   "execution_count": 25,
   "id": "fe55e92e",
   "metadata": {},
   "outputs": [
    {
     "data": {
      "image/png": "[encoded data removed]",
      "text/plain": [
       "<Figure size 400x400 with 1 Axes>"
      ]
     },
     "metadata": {},
     "output_type": "display_data"
    },
    {
     "data": {
      "image/png": "[encoded data removed]",
      "text/plain": [
       "<Figure size 640x480 with 1 Axes>"
      ]
     },
     "metadata": {},
     "output_type": "display_data"
    },
    {
     "data": {
      "image/png": "[encoded data removed]",
      "text/plain": [
       "<Figure size 400x400 with 1 Axes>"
      ]
     },
     "metadata": {},
     "output_type": "display_data"
    }
   ],
   "source": [
    "Ship_Mode.div(Ship_Mode.sum(1).astype(float), axis=0).plot(kind=\"bar\", stacked=True, figsize=(4,4)) \n",
    "plt.show() \n",
    "Segment.div(Segment.sum(1).astype(float), axis=0).plot(kind=\"bar\", stacked=True) \n",
    "plt.show() \n",
    "Category.div(Category.sum(1).astype(float), axis=0).plot(kind=\"bar\", stacked=True, figsize=(4,4)) \n",
    "plt.show() "
   ]
  },
  {
   "cell_type": "code",
   "execution_count": 26,
   "id": "859685b1",
   "metadata": {},
   "outputs": [
    {
     "data": {
      "text/html": [
       "<div>\n",
       "<style scoped>\n",
       "    .dataframe tbody tr th:only-of-type {\n",
       "        vertical-align: middle;\n",
       "    }\n",
       "\n",
       "    .dataframe tbody tr th {\n",
       "        vertical-align: top;\n",
       "    }\n",
       "\n",
       "    .dataframe thead th {\n",
       "        text-align: right;\n",
       "    }\n",
       "</style>\n",
       "<table border=\"1\" class=\"dataframe\">\n",
       "  <thead>\n",
       "    <tr style=\"text-align: right;\">\n",
       "      <th></th>\n",
       "      <th>Ship Mode</th>\n",
       "      <th>Segment</th>\n",
       "      <th>Country</th>\n",
       "      <th>City</th>\n",
       "      <th>State</th>\n",
       "      <th>Postal Code</th>\n",
       "      <th>Region</th>\n",
       "      <th>Category</th>\n",
       "      <th>Sub-Category</th>\n",
       "      <th>Sales</th>\n",
       "      <th>Quantity</th>\n",
       "      <th>Discount</th>\n",
       "      <th>Profit</th>\n",
       "      <th>Profit_cat</th>\n",
       "      <th>Sales_log</th>\n",
       "    </tr>\n",
       "  </thead>\n",
       "  <tbody>\n",
       "    <tr>\n",
       "      <th>0</th>\n",
       "      <td>Second Class</td>\n",
       "      <td>Consumer</td>\n",
       "      <td>United States</td>\n",
       "      <td>Henderson</td>\n",
       "      <td>Kentucky</td>\n",
       "      <td>42420</td>\n",
       "      <td>South</td>\n",
       "      <td>Furniture</td>\n",
       "      <td>Bookcases</td>\n",
       "      <td>261.9600</td>\n",
       "      <td>2</td>\n",
       "      <td>0.00</td>\n",
       "      <td>41.9136</td>\n",
       "      <td>P</td>\n",
       "      <td>5.568192</td>\n",
       "    </tr>\n",
       "    <tr>\n",
       "      <th>1</th>\n",
       "      <td>Second Class</td>\n",
       "      <td>Consumer</td>\n",
       "      <td>United States</td>\n",
       "      <td>Henderson</td>\n",
       "      <td>Kentucky</td>\n",
       "      <td>42420</td>\n",
       "      <td>South</td>\n",
       "      <td>Furniture</td>\n",
       "      <td>Chairs</td>\n",
       "      <td>731.9400</td>\n",
       "      <td>3</td>\n",
       "      <td>0.00</td>\n",
       "      <td>219.5820</td>\n",
       "      <td>P</td>\n",
       "      <td>6.595699</td>\n",
       "    </tr>\n",
       "    <tr>\n",
       "      <th>2</th>\n",
       "      <td>Second Class</td>\n",
       "      <td>Corporate</td>\n",
       "      <td>United States</td>\n",
       "      <td>Los Angeles</td>\n",
       "      <td>California</td>\n",
       "      <td>90036</td>\n",
       "      <td>West</td>\n",
       "      <td>Office Supplies</td>\n",
       "      <td>Labels</td>\n",
       "      <td>14.6200</td>\n",
       "      <td>2</td>\n",
       "      <td>0.00</td>\n",
       "      <td>6.8714</td>\n",
       "      <td>P</td>\n",
       "      <td>2.682390</td>\n",
       "    </tr>\n",
       "    <tr>\n",
       "      <th>3</th>\n",
       "      <td>Standard Class</td>\n",
       "      <td>Consumer</td>\n",
       "      <td>United States</td>\n",
       "      <td>Fort Lauderdale</td>\n",
       "      <td>Florida</td>\n",
       "      <td>33311</td>\n",
       "      <td>South</td>\n",
       "      <td>Furniture</td>\n",
       "      <td>Tables</td>\n",
       "      <td>957.5775</td>\n",
       "      <td>5</td>\n",
       "      <td>0.45</td>\n",
       "      <td>-383.0310</td>\n",
       "      <td>L</td>\n",
       "      <td>6.864407</td>\n",
       "    </tr>\n",
       "    <tr>\n",
       "      <th>4</th>\n",
       "      <td>Standard Class</td>\n",
       "      <td>Consumer</td>\n",
       "      <td>United States</td>\n",
       "      <td>Fort Lauderdale</td>\n",
       "      <td>Florida</td>\n",
       "      <td>33311</td>\n",
       "      <td>South</td>\n",
       "      <td>Office Supplies</td>\n",
       "      <td>Storage</td>\n",
       "      <td>22.3680</td>\n",
       "      <td>2</td>\n",
       "      <td>0.20</td>\n",
       "      <td>2.5164</td>\n",
       "      <td>P</td>\n",
       "      <td>3.107631</td>\n",
       "    </tr>\n",
       "  </tbody>\n",
       "</table>\n",
       "</div>"
      ],
      "text/plain": [
       "        Ship Mode    Segment        Country             City       State  \\\n",
       "0    Second Class   Consumer  United States        Henderson    Kentucky   \n",
       "1    Second Class   Consumer  United States        Henderson    Kentucky   \n",
       "2    Second Class  Corporate  United States      Los Angeles  California   \n",
       "3  Standard Class   Consumer  United States  Fort Lauderdale     Florida   \n",
       "4  Standard Class   Consumer  United States  Fort Lauderdale     Florida   \n",
       "\n",
       "   Postal Code Region         Category Sub-Category     Sales  Quantity  \\\n",
       "0        42420  South        Furniture    Bookcases  261.9600         2   \n",
       "1        42420  South        Furniture       Chairs  731.9400         3   \n",
       "2        90036   West  Office Supplies       Labels   14.6200         2   \n",
       "3        33311  South        Furniture       Tables  957.5775         5   \n",
       "4        33311  South  Office Supplies      Storage   22.3680         2   \n",
       "\n",
       "   Discount    Profit Profit_cat  Sales_log  \n",
       "0      0.00   41.9136          P   5.568192  \n",
       "1      0.00  219.5820          P   6.595699  \n",
       "2      0.00    6.8714          P   2.682390  \n",
       "3      0.45 -383.0310          L   6.864407  \n",
       "4      0.20    2.5164          P   3.107631  "
      ]
     },
     "execution_count": 26,
     "metadata": {},
     "output_type": "execute_result"
    }
   ],
   "source": [
    "store.head()"
   ]
  },
  {
   "cell_type": "code",
   "execution_count": 27,
   "id": "0dc23e27",
   "metadata": {},
   "outputs": [
    {
     "data": {
      "text/html": [
       "<div>\n",
       "<style scoped>\n",
       "    .dataframe tbody tr th:only-of-type {\n",
       "        vertical-align: middle;\n",
       "    }\n",
       "\n",
       "    .dataframe tbody tr th {\n",
       "        vertical-align: top;\n",
       "    }\n",
       "\n",
       "    .dataframe thead th {\n",
       "        text-align: right;\n",
       "    }\n",
       "</style>\n",
       "<table border=\"1\" class=\"dataframe\">\n",
       "  <thead>\n",
       "    <tr style=\"text-align: right;\">\n",
       "      <th></th>\n",
       "      <th>Ship Mode</th>\n",
       "      <th>Segment</th>\n",
       "      <th>City</th>\n",
       "      <th>State</th>\n",
       "      <th>Region</th>\n",
       "      <th>Category</th>\n",
       "      <th>Sub-Category</th>\n",
       "      <th>Quantity</th>\n",
       "      <th>Discount</th>\n",
       "      <th>Profit</th>\n",
       "      <th>Sales_log</th>\n",
       "    </tr>\n",
       "  </thead>\n",
       "  <tbody>\n",
       "    <tr>\n",
       "      <th>0</th>\n",
       "      <td>Second Class</td>\n",
       "      <td>Consumer</td>\n",
       "      <td>Henderson</td>\n",
       "      <td>Kentucky</td>\n",
       "      <td>South</td>\n",
       "      <td>Furniture</td>\n",
       "      <td>Bookcases</td>\n",
       "      <td>2</td>\n",
       "      <td>0.00</td>\n",
       "      <td>41.9136</td>\n",
       "      <td>5.568192</td>\n",
       "    </tr>\n",
       "    <tr>\n",
       "      <th>1</th>\n",
       "      <td>Second Class</td>\n",
       "      <td>Consumer</td>\n",
       "      <td>Henderson</td>\n",
       "      <td>Kentucky</td>\n",
       "      <td>South</td>\n",
       "      <td>Furniture</td>\n",
       "      <td>Chairs</td>\n",
       "      <td>3</td>\n",
       "      <td>0.00</td>\n",
       "      <td>219.5820</td>\n",
       "      <td>6.595699</td>\n",
       "    </tr>\n",
       "    <tr>\n",
       "      <th>2</th>\n",
       "      <td>Second Class</td>\n",
       "      <td>Corporate</td>\n",
       "      <td>Los Angeles</td>\n",
       "      <td>California</td>\n",
       "      <td>West</td>\n",
       "      <td>Office Supplies</td>\n",
       "      <td>Labels</td>\n",
       "      <td>2</td>\n",
       "      <td>0.00</td>\n",
       "      <td>6.8714</td>\n",
       "      <td>2.682390</td>\n",
       "    </tr>\n",
       "    <tr>\n",
       "      <th>3</th>\n",
       "      <td>Standard Class</td>\n",
       "      <td>Consumer</td>\n",
       "      <td>Fort Lauderdale</td>\n",
       "      <td>Florida</td>\n",
       "      <td>South</td>\n",
       "      <td>Furniture</td>\n",
       "      <td>Tables</td>\n",
       "      <td>5</td>\n",
       "      <td>0.45</td>\n",
       "      <td>-383.0310</td>\n",
       "      <td>6.864407</td>\n",
       "    </tr>\n",
       "    <tr>\n",
       "      <th>4</th>\n",
       "      <td>Standard Class</td>\n",
       "      <td>Consumer</td>\n",
       "      <td>Fort Lauderdale</td>\n",
       "      <td>Florida</td>\n",
       "      <td>South</td>\n",
       "      <td>Office Supplies</td>\n",
       "      <td>Storage</td>\n",
       "      <td>2</td>\n",
       "      <td>0.20</td>\n",
       "      <td>2.5164</td>\n",
       "      <td>3.107631</td>\n",
       "    </tr>\n",
       "  </tbody>\n",
       "</table>\n",
       "</div>"
      ],
      "text/plain": [
       "        Ship Mode    Segment             City       State Region  \\\n",
       "0    Second Class   Consumer        Henderson    Kentucky  South   \n",
       "1    Second Class   Consumer        Henderson    Kentucky  South   \n",
       "2    Second Class  Corporate      Los Angeles  California   West   \n",
       "3  Standard Class   Consumer  Fort Lauderdale     Florida  South   \n",
       "4  Standard Class   Consumer  Fort Lauderdale     Florida  South   \n",
       "\n",
       "          Category Sub-Category  Quantity  Discount    Profit  Sales_log  \n",
       "0        Furniture    Bookcases         2      0.00   41.9136   5.568192  \n",
       "1        Furniture       Chairs         3      0.00  219.5820   6.595699  \n",
       "2  Office Supplies       Labels         2      0.00    6.8714   2.682390  \n",
       "3        Furniture       Tables         5      0.45 -383.0310   6.864407  \n",
       "4  Office Supplies      Storage         2      0.20    2.5164   3.107631  "
      ]
     },
     "execution_count": 27,
     "metadata": {},
     "output_type": "execute_result"
    }
   ],
   "source": [
    "store1 = store.drop(['Country','Postal Code','Sales','Profit_cat'],axis=1)\n",
    "store1.head()"
   ]
  },
  {
   "cell_type": "code",
   "execution_count": 28,
   "id": "00289d4f",
   "metadata": {},
   "outputs": [
    {
     "data": {
      "text/html": [
       "<div>\n",
       "<style scoped>\n",
       "    .dataframe tbody tr th:only-of-type {\n",
       "        vertical-align: middle;\n",
       "    }\n",
       "\n",
       "    .dataframe tbody tr th {\n",
       "        vertical-align: top;\n",
       "    }\n",
       "\n",
       "    .dataframe thead th {\n",
       "        text-align: right;\n",
       "    }\n",
       "</style>\n",
       "<table border=\"1\" class=\"dataframe\">\n",
       "  <thead>\n",
       "    <tr style=\"text-align: right;\">\n",
       "      <th></th>\n",
       "      <th>Ship Mode</th>\n",
       "      <th>Segment</th>\n",
       "      <th>City</th>\n",
       "      <th>State</th>\n",
       "      <th>Region</th>\n",
       "      <th>Category</th>\n",
       "      <th>Sub-Category</th>\n",
       "      <th>Quantity</th>\n",
       "      <th>Discount</th>\n",
       "      <th>Profit_cat</th>\n",
       "      <th>Sales_log</th>\n",
       "    </tr>\n",
       "  </thead>\n",
       "  <tbody>\n",
       "    <tr>\n",
       "      <th>0</th>\n",
       "      <td>Second Class</td>\n",
       "      <td>Consumer</td>\n",
       "      <td>Henderson</td>\n",
       "      <td>Kentucky</td>\n",
       "      <td>South</td>\n",
       "      <td>Furniture</td>\n",
       "      <td>Bookcases</td>\n",
       "      <td>2</td>\n",
       "      <td>0.00</td>\n",
       "      <td>P</td>\n",
       "      <td>5.568192</td>\n",
       "    </tr>\n",
       "    <tr>\n",
       "      <th>1</th>\n",
       "      <td>Second Class</td>\n",
       "      <td>Consumer</td>\n",
       "      <td>Henderson</td>\n",
       "      <td>Kentucky</td>\n",
       "      <td>South</td>\n",
       "      <td>Furniture</td>\n",
       "      <td>Chairs</td>\n",
       "      <td>3</td>\n",
       "      <td>0.00</td>\n",
       "      <td>P</td>\n",
       "      <td>6.595699</td>\n",
       "    </tr>\n",
       "    <tr>\n",
       "      <th>2</th>\n",
       "      <td>Second Class</td>\n",
       "      <td>Corporate</td>\n",
       "      <td>Los Angeles</td>\n",
       "      <td>California</td>\n",
       "      <td>West</td>\n",
       "      <td>Office Supplies</td>\n",
       "      <td>Labels</td>\n",
       "      <td>2</td>\n",
       "      <td>0.00</td>\n",
       "      <td>P</td>\n",
       "      <td>2.682390</td>\n",
       "    </tr>\n",
       "    <tr>\n",
       "      <th>3</th>\n",
       "      <td>Standard Class</td>\n",
       "      <td>Consumer</td>\n",
       "      <td>Fort Lauderdale</td>\n",
       "      <td>Florida</td>\n",
       "      <td>South</td>\n",
       "      <td>Furniture</td>\n",
       "      <td>Tables</td>\n",
       "      <td>5</td>\n",
       "      <td>0.45</td>\n",
       "      <td>L</td>\n",
       "      <td>6.864407</td>\n",
       "    </tr>\n",
       "    <tr>\n",
       "      <th>4</th>\n",
       "      <td>Standard Class</td>\n",
       "      <td>Consumer</td>\n",
       "      <td>Fort Lauderdale</td>\n",
       "      <td>Florida</td>\n",
       "      <td>South</td>\n",
       "      <td>Office Supplies</td>\n",
       "      <td>Storage</td>\n",
       "      <td>2</td>\n",
       "      <td>0.20</td>\n",
       "      <td>P</td>\n",
       "      <td>3.107631</td>\n",
       "    </tr>\n",
       "  </tbody>\n",
       "</table>\n",
       "</div>"
      ],
      "text/plain": [
       "        Ship Mode    Segment             City       State Region  \\\n",
       "0    Second Class   Consumer        Henderson    Kentucky  South   \n",
       "1    Second Class   Consumer        Henderson    Kentucky  South   \n",
       "2    Second Class  Corporate      Los Angeles  California   West   \n",
       "3  Standard Class   Consumer  Fort Lauderdale     Florida  South   \n",
       "4  Standard Class   Consumer  Fort Lauderdale     Florida  South   \n",
       "\n",
       "          Category Sub-Category  Quantity  Discount Profit_cat  Sales_log  \n",
       "0        Furniture    Bookcases         2      0.00          P   5.568192  \n",
       "1        Furniture       Chairs         3      0.00          P   6.595699  \n",
       "2  Office Supplies       Labels         2      0.00          P   2.682390  \n",
       "3        Furniture       Tables         5      0.45          L   6.864407  \n",
       "4  Office Supplies      Storage         2      0.20          P   3.107631  "
      ]
     },
     "execution_count": 28,
     "metadata": {},
     "output_type": "execute_result"
    }
   ],
   "source": [
    "store = store.drop(['Country','Postal Code','Sales','Profit'],axis=1)\n",
    "store.head()"
   ]
  },
  {
   "cell_type": "code",
   "execution_count": null,
   "id": "b30c546b",
   "metadata": {},
   "outputs": [],
   "source": []
  },
  {
   "cell_type": "code",
   "execution_count": 29,
   "id": "4a4679f5",
   "metadata": {},
   "outputs": [],
   "source": [
    "x = store.drop(['Profit_cat'],axis=1)\n",
    "y = store['Profit_cat']"
   ]
  },
  {
   "cell_type": "code",
   "execution_count": 30,
   "id": "b32ee0db",
   "metadata": {},
   "outputs": [],
   "source": [
    "x=pd.get_dummies(x)\n"
   ]
  },
  {
   "cell_type": "code",
   "execution_count": 31,
   "id": "947c3bf8",
   "metadata": {},
   "outputs": [
    {
     "data": {
      "text/html": [
       "<div>\n",
       "<style scoped>\n",
       "    .dataframe tbody tr th:only-of-type {\n",
       "        vertical-align: middle;\n",
       "    }\n",
       "\n",
       "    .dataframe tbody tr th {\n",
       "        vertical-align: top;\n",
       "    }\n",
       "\n",
       "    .dataframe thead th {\n",
       "        text-align: right;\n",
       "    }\n",
       "</style>\n",
       "<table border=\"1\" class=\"dataframe\">\n",
       "  <thead>\n",
       "    <tr style=\"text-align: right;\">\n",
       "      <th></th>\n",
       "      <th>Quantity</th>\n",
       "      <th>Discount</th>\n",
       "      <th>Sales_log</th>\n",
       "      <th>Ship Mode_First Class</th>\n",
       "      <th>Ship Mode_Same Day</th>\n",
       "      <th>Ship Mode_Second Class</th>\n",
       "      <th>Ship Mode_Standard Class</th>\n",
       "      <th>Segment_Consumer</th>\n",
       "      <th>Segment_Corporate</th>\n",
       "      <th>Segment_Home Office</th>\n",
       "      <th>...</th>\n",
       "      <th>Sub-Category_Envelopes</th>\n",
       "      <th>Sub-Category_Fasteners</th>\n",
       "      <th>Sub-Category_Furnishings</th>\n",
       "      <th>Sub-Category_Labels</th>\n",
       "      <th>Sub-Category_Machines</th>\n",
       "      <th>Sub-Category_Paper</th>\n",
       "      <th>Sub-Category_Phones</th>\n",
       "      <th>Sub-Category_Storage</th>\n",
       "      <th>Sub-Category_Supplies</th>\n",
       "      <th>Sub-Category_Tables</th>\n",
       "    </tr>\n",
       "  </thead>\n",
       "  <tbody>\n",
       "    <tr>\n",
       "      <th>0</th>\n",
       "      <td>2</td>\n",
       "      <td>0.00</td>\n",
       "      <td>5.568192</td>\n",
       "      <td>0</td>\n",
       "      <td>0</td>\n",
       "      <td>1</td>\n",
       "      <td>0</td>\n",
       "      <td>1</td>\n",
       "      <td>0</td>\n",
       "      <td>0</td>\n",
       "      <td>...</td>\n",
       "      <td>0</td>\n",
       "      <td>0</td>\n",
       "      <td>0</td>\n",
       "      <td>0</td>\n",
       "      <td>0</td>\n",
       "      <td>0</td>\n",
       "      <td>0</td>\n",
       "      <td>0</td>\n",
       "      <td>0</td>\n",
       "      <td>0</td>\n",
       "    </tr>\n",
       "    <tr>\n",
       "      <th>1</th>\n",
       "      <td>3</td>\n",
       "      <td>0.00</td>\n",
       "      <td>6.595699</td>\n",
       "      <td>0</td>\n",
       "      <td>0</td>\n",
       "      <td>1</td>\n",
       "      <td>0</td>\n",
       "      <td>1</td>\n",
       "      <td>0</td>\n",
       "      <td>0</td>\n",
       "      <td>...</td>\n",
       "      <td>0</td>\n",
       "      <td>0</td>\n",
       "      <td>0</td>\n",
       "      <td>0</td>\n",
       "      <td>0</td>\n",
       "      <td>0</td>\n",
       "      <td>0</td>\n",
       "      <td>0</td>\n",
       "      <td>0</td>\n",
       "      <td>0</td>\n",
       "    </tr>\n",
       "    <tr>\n",
       "      <th>2</th>\n",
       "      <td>2</td>\n",
       "      <td>0.00</td>\n",
       "      <td>2.682390</td>\n",
       "      <td>0</td>\n",
       "      <td>0</td>\n",
       "      <td>1</td>\n",
       "      <td>0</td>\n",
       "      <td>0</td>\n",
       "      <td>1</td>\n",
       "      <td>0</td>\n",
       "      <td>...</td>\n",
       "      <td>0</td>\n",
       "      <td>0</td>\n",
       "      <td>0</td>\n",
       "      <td>1</td>\n",
       "      <td>0</td>\n",
       "      <td>0</td>\n",
       "      <td>0</td>\n",
       "      <td>0</td>\n",
       "      <td>0</td>\n",
       "      <td>0</td>\n",
       "    </tr>\n",
       "    <tr>\n",
       "      <th>3</th>\n",
       "      <td>5</td>\n",
       "      <td>0.45</td>\n",
       "      <td>6.864407</td>\n",
       "      <td>0</td>\n",
       "      <td>0</td>\n",
       "      <td>0</td>\n",
       "      <td>1</td>\n",
       "      <td>1</td>\n",
       "      <td>0</td>\n",
       "      <td>0</td>\n",
       "      <td>...</td>\n",
       "      <td>0</td>\n",
       "      <td>0</td>\n",
       "      <td>0</td>\n",
       "      <td>0</td>\n",
       "      <td>0</td>\n",
       "      <td>0</td>\n",
       "      <td>0</td>\n",
       "      <td>0</td>\n",
       "      <td>0</td>\n",
       "      <td>1</td>\n",
       "    </tr>\n",
       "    <tr>\n",
       "      <th>4</th>\n",
       "      <td>2</td>\n",
       "      <td>0.20</td>\n",
       "      <td>3.107631</td>\n",
       "      <td>0</td>\n",
       "      <td>0</td>\n",
       "      <td>0</td>\n",
       "      <td>1</td>\n",
       "      <td>1</td>\n",
       "      <td>0</td>\n",
       "      <td>0</td>\n",
       "      <td>...</td>\n",
       "      <td>0</td>\n",
       "      <td>0</td>\n",
       "      <td>0</td>\n",
       "      <td>0</td>\n",
       "      <td>0</td>\n",
       "      <td>0</td>\n",
       "      <td>0</td>\n",
       "      <td>1</td>\n",
       "      <td>0</td>\n",
       "      <td>0</td>\n",
       "    </tr>\n",
       "  </tbody>\n",
       "</table>\n",
       "<p>5 rows × 614 columns</p>\n",
       "</div>"
      ],
      "text/plain": [
       "   Quantity  Discount  Sales_log  Ship Mode_First Class  Ship Mode_Same Day  \\\n",
       "0         2      0.00   5.568192                      0                   0   \n",
       "1         3      0.00   6.595699                      0                   0   \n",
       "2         2      0.00   2.682390                      0                   0   \n",
       "3         5      0.45   6.864407                      0                   0   \n",
       "4         2      0.20   3.107631                      0                   0   \n",
       "\n",
       "   Ship Mode_Second Class  Ship Mode_Standard Class  Segment_Consumer  \\\n",
       "0                       1                         0                 1   \n",
       "1                       1                         0                 1   \n",
       "2                       1                         0                 0   \n",
       "3                       0                         1                 1   \n",
       "4                       0                         1                 1   \n",
       "\n",
       "   Segment_Corporate  Segment_Home Office  ...  Sub-Category_Envelopes  \\\n",
       "0                  0                    0  ...                       0   \n",
       "1                  0                    0  ...                       0   \n",
       "2                  1                    0  ...                       0   \n",
       "3                  0                    0  ...                       0   \n",
       "4                  0                    0  ...                       0   \n",
       "\n",
       "   Sub-Category_Fasteners  Sub-Category_Furnishings  Sub-Category_Labels  \\\n",
       "0                       0                         0                    0   \n",
       "1                       0                         0                    0   \n",
       "2                       0                         0                    1   \n",
       "3                       0                         0                    0   \n",
       "4                       0                         0                    0   \n",
       "\n",
       "   Sub-Category_Machines  Sub-Category_Paper  Sub-Category_Phones  \\\n",
       "0                      0                   0                    0   \n",
       "1                      0                   0                    0   \n",
       "2                      0                   0                    0   \n",
       "3                      0                   0                    0   \n",
       "4                      0                   0                    0   \n",
       "\n",
       "   Sub-Category_Storage  Sub-Category_Supplies  Sub-Category_Tables  \n",
       "0                     0                      0                    0  \n",
       "1                     0                      0                    0  \n",
       "2                     0                      0                    0  \n",
       "3                     0                      0                    1  \n",
       "4                     1                      0                    0  \n",
       "\n",
       "[5 rows x 614 columns]"
      ]
     },
     "execution_count": 31,
     "metadata": {},
     "output_type": "execute_result"
    }
   ],
   "source": [
    "x.head()"
   ]
  },
  {
   "cell_type": "code",
   "execution_count": 32,
   "id": "d2f09ca3",
   "metadata": {},
   "outputs": [],
   "source": [
    "from sklearn.model_selection import train_test_split\n",
    "x_train,x_test,y_train,y_test = train_test_split(x,y)"
   ]
  },
  {
   "cell_type": "code",
   "execution_count": 33,
   "id": "17beb625",
   "metadata": {},
   "outputs": [
    {
     "data": {
      "text/plain": [
       "LogisticRegression()"
      ]
     },
     "execution_count": 33,
     "metadata": {},
     "output_type": "execute_result"
    }
   ],
   "source": [
    "from sklearn.linear_model import LogisticRegression \n",
    "\n",
    "model = LogisticRegression() \n",
    "model.fit(x_train, y_train)"
   ]
  },
  {
   "cell_type": "code",
   "execution_count": 34,
   "id": "403f5bfb",
   "metadata": {},
   "outputs": [
    {
     "data": {
      "text/plain": [
       "0.9323729491796718"
      ]
     },
     "execution_count": 34,
     "metadata": {},
     "output_type": "execute_result"
    }
   ],
   "source": [
    "model.score(x_test,y_test)"
   ]
  },
  {
   "cell_type": "markdown",
   "id": "ac9d124e",
   "metadata": {},
   "source": [
    "### Logistic regrssion"
   ]
  },
  {
   "cell_type": "code",
   "execution_count": 35,
   "id": "73633c8b",
   "metadata": {},
   "outputs": [],
   "source": [
    "from sklearn.model_selection import StratifiedKFold\n",
    "from sklearn.metrics import accuracy_score"
   ]
  },
  {
   "cell_type": "code",
   "execution_count": 36,
   "id": "4e1e374c",
   "metadata": {},
   "outputs": [
    {
     "name": "stdout",
     "output_type": "stream",
     "text": [
      "\n",
      "1 of kfold 5\n",
      "accuracy_score 0.9429714857428715\n",
      "score 0.9429714857428715\n",
      "['P' 'P' 'P' ... 'P' 'P' 'P']\n",
      "\n",
      "2 of kfold 5\n",
      "accuracy_score 0.9384692346173087\n",
      "score 0.9384692346173087\n",
      "['P' 'P' 'P' ... 'P' 'P' 'P']\n",
      "\n",
      "3 of kfold 5\n",
      "accuracy_score 0.9414707353676839\n",
      "score 0.9414707353676839\n",
      "['P' 'P' 'P' ... 'P' 'P' 'P']\n",
      "\n",
      "4 of kfold 5\n",
      "accuracy_score 0.9529764882441221\n",
      "score 0.9529764882441221\n",
      "['L' 'P' 'P' ... 'P' 'P' 'P']\n",
      "\n",
      "5 of kfold 5\n",
      "accuracy_score 0.9354354354354354\n",
      "score 0.9354354354354354\n",
      "['P' 'P' 'L' ... 'P' 'P' 'P']\n"
     ]
    }
   ],
   "source": [
    "i=1 \n",
    "kf = StratifiedKFold(n_splits=5,random_state=1,shuffle=True) \n",
    "for train_index,test_index in kf.split(x,y):     \n",
    "    print('\\n{} of kfold {}'.format(i,kf.n_splits))     \n",
    "    \n",
    "    x_train1,x_test1 = x.loc[train_index],x.loc[test_index]     \n",
    "    y_train1,y_test1 = y[train_index],y[test_index]         \n",
    "    \n",
    "    model = LogisticRegression(random_state=1)     \n",
    "    model.fit(x_train1, y_train1)   \n",
    "    \n",
    "    pred_test = model.predict(x_test1)     \n",
    "    score = accuracy_score(y_test1,pred_test)  \n",
    "    \n",
    "    score1 = model.score(x_test1,y_test1)\n",
    "    \n",
    "    print('accuracy_score',score)  \n",
    "    print('score',score1)\n",
    "    print(pred_test)\n",
    "    \n",
    "    i+=1"
   ]
  },
  {
   "cell_type": "markdown",
   "id": "7c4808de",
   "metadata": {},
   "source": [
    "### "
   ]
  },
  {
   "cell_type": "code",
   "execution_count": 37,
   "id": "a18644f0",
   "metadata": {},
   "outputs": [
    {
     "name": "stdout",
     "output_type": "stream",
     "text": [
      "\n",
      "1 of kfold 5\n",
      "accuracy_score 0.9429714857428715\n",
      "score 0.9429714857428715\n",
      "\n",
      "2 of kfold 5\n",
      "accuracy_score 0.9384692346173087\n",
      "score 0.9384692346173087\n",
      "\n",
      "3 of kfold 5\n",
      "accuracy_score 0.9414707353676839\n",
      "score 0.9414707353676839\n",
      "\n",
      "4 of kfold 5\n",
      "accuracy_score 0.9529764882441221\n",
      "score 0.9529764882441221\n",
      "\n",
      "5 of kfold 5\n",
      "accuracy_score 0.9354354354354354\n",
      "score 0.9354354354354354\n"
     ]
    }
   ],
   "source": [
    "i=1 \n",
    "kf = StratifiedKFold(n_splits=5,random_state=1,shuffle=True) \n",
    "for train_index,test_index in kf.split(x,y):     \n",
    "    print('\\n{} of kfold {}'.format(i,kf.n_splits))     \n",
    "    \n",
    "    x_train1,x_test1 = x.loc[train_index],x.loc[test_index]     \n",
    "    y_train1,y_test1 = y[train_index],y[test_index]         \n",
    "    \n",
    "    model = LogisticRegression(random_state=1)     \n",
    "    model.fit(x_train1, y_train1)   \n",
    "    \n",
    "    pred_test = model.predict(x_test1)     \n",
    "    score = accuracy_score(y_test1,pred_test)  \n",
    "    \n",
    "    score1 = model.score(x_test1,y_test1)\n",
    "    \n",
    "    print('accuracy_score',score)  \n",
    "    print('score',score1)\n",
    "    \n",
    "    i+=1"
   ]
  },
  {
   "cell_type": "markdown",
   "id": "d82fe950",
   "metadata": {},
   "source": [
    "### Decision Tree"
   ]
  },
  {
   "cell_type": "code",
   "execution_count": 38,
   "id": "5f22c8a6",
   "metadata": {},
   "outputs": [],
   "source": [
    "from sklearn import tree"
   ]
  },
  {
   "cell_type": "code",
   "execution_count": 39,
   "id": "c634d061",
   "metadata": {},
   "outputs": [
    {
     "name": "stdout",
     "output_type": "stream",
     "text": [
      "\n",
      "1 of kfold 5\n",
      "accuracy_score 0.9384692346173087\n",
      "score 0.9384692346173087\n",
      "\n",
      "2 of kfold 5\n",
      "accuracy_score 0.9344672336168084\n",
      "score 0.9344672336168084\n",
      "\n",
      "3 of kfold 5\n",
      "accuracy_score 0.9309654827413707\n",
      "score 0.9309654827413707\n",
      "\n",
      "4 of kfold 5\n",
      "accuracy_score 0.9429714857428715\n",
      "score 0.9429714857428715\n",
      "\n",
      "5 of kfold 5\n",
      "accuracy_score 0.938938938938939\n",
      "score 0.938938938938939\n"
     ]
    }
   ],
   "source": [
    "i=1 \n",
    "kf = StratifiedKFold(n_splits=5,random_state=1,shuffle=True) \n",
    "for train_index,test_index in kf.split(x,y):     \n",
    "    print('\\n{} of kfold {}'.format(i,kf.n_splits))     \n",
    "    \n",
    "    x_train1,x_test1 = x.loc[train_index],x.loc[test_index]     \n",
    "    y_train1,y_test1 = y[train_index],y[test_index]         \n",
    "    \n",
    "    model = tree.DecisionTreeClassifier(random_state=1)     \n",
    "    model.fit(x_train1, y_train1)   \n",
    "    \n",
    "    pred_test = model.predict(x_test1)     \n",
    "    score = accuracy_score(y_test1,pred_test)  \n",
    "    \n",
    "    score1 = model.score(x_test1,y_test1)\n",
    "    \n",
    "    print('accuracy_score',score)  \n",
    "    print('score',score1)\n",
    "    \n",
    "    i+=1"
   ]
  },
  {
   "cell_type": "markdown",
   "id": "ee56f2a9",
   "metadata": {},
   "source": [
    "### Random Forest"
   ]
  },
  {
   "cell_type": "code",
   "execution_count": 40,
   "id": "ecb06e39",
   "metadata": {},
   "outputs": [],
   "source": [
    "from sklearn.ensemble import RandomForestClassifier"
   ]
  },
  {
   "cell_type": "code",
   "execution_count": 41,
   "id": "dde99414",
   "metadata": {},
   "outputs": [
    {
     "name": "stdout",
     "output_type": "stream",
     "text": [
      "\n",
      "1 of kfold 5\n",
      "accuracy_score 0.9424712356178089\n",
      "score 0.9424712356178089\n",
      "\n",
      "2 of kfold 5\n",
      "accuracy_score 0.9409704852426213\n",
      "score 0.9409704852426213\n",
      "\n",
      "3 of kfold 5\n",
      "accuracy_score 0.9419709854927464\n",
      "score 0.9419709854927464\n",
      "\n",
      "4 of kfold 5\n",
      "accuracy_score 0.9494747373686844\n",
      "score 0.9494747373686844\n",
      "\n",
      "5 of kfold 5\n",
      "accuracy_score 0.9414414414414415\n",
      "score 0.9414414414414415\n"
     ]
    }
   ],
   "source": [
    "i=1 \n",
    "kf = StratifiedKFold(n_splits=5,random_state=1,shuffle=True) \n",
    "for train_index,test_index in kf.split(x,y):     \n",
    "    print('\\n{} of kfold {}'.format(i,kf.n_splits))     \n",
    "    \n",
    "    x_train1,x_test1 = x.loc[train_index],x.loc[test_index]     \n",
    "    y_train1,y_test1 = y[train_index],y[test_index]         \n",
    "    \n",
    "    model = RandomForestClassifier(random_state=1)     \n",
    "    model.fit(x_train1, y_train1)   \n",
    "    \n",
    "    pred_test = model.predict(x_test1)     \n",
    "    score = accuracy_score(y_test1,pred_test)  \n",
    "    \n",
    "    score1 = model.score(x_test1,y_test1)\n",
    "    \n",
    "    print('accuracy_score',score)  \n",
    "    print('score',score1)\n",
    "    \n",
    "    i+=1"
   ]
  },
  {
   "cell_type": "markdown",
   "id": "8ac36166",
   "metadata": {},
   "source": [
    "### GrandSearchCV on RF"
   ]
  },
  {
   "cell_type": "code",
   "execution_count": 42,
   "id": "cacdb6da",
   "metadata": {},
   "outputs": [],
   "source": [
    "from sklearn.model_selection import GridSearchCV"
   ]
  },
  {
   "cell_type": "code",
   "execution_count": 43,
   "id": "66988f5a",
   "metadata": {},
   "outputs": [],
   "source": [
    "# Provide range for max_depth from 1 to 20 with an interval of 2 and from 1 to 200 with an interval of 20 for n_estimators\n",
    "\n",
    "\n",
    "# paramgrid = {'max_depth': list(range(1, 20, 2)), 'n_estimators': list(range(1, 200, 20))}"
   ]
  },
  {
   "cell_type": "code",
   "execution_count": 44,
   "id": "cc339c87",
   "metadata": {},
   "outputs": [],
   "source": [
    "# grid_search=GridSearchCV(RandomForestClassifier(random_state=1),paramgrid)"
   ]
  },
  {
   "cell_type": "code",
   "execution_count": 45,
   "id": "79ee9537",
   "metadata": {},
   "outputs": [],
   "source": [
    "# from sklearn.model_selection import train_test_split \n",
    "# x_train, x_test, y_train, y_test = train_test_split(x,y, test_size =0.3, random_state=1)"
   ]
  },
  {
   "cell_type": "code",
   "execution_count": 46,
   "id": "31488e72",
   "metadata": {},
   "outputs": [],
   "source": [
    "# Fit the grid search model \n",
    "# grid_search.fit(x_train,y_train)"
   ]
  },
  {
   "cell_type": "code",
   "execution_count": 47,
   "id": "26c64976",
   "metadata": {},
   "outputs": [],
   "source": [
    "# Estimating the optimized value \n",
    "# grid_search.best_estimator_"
   ]
  },
  {
   "cell_type": "markdown",
   "id": "f6d2c1b3",
   "metadata": {},
   "source": [
    "# Regression "
   ]
  },
  {
   "cell_type": "code",
   "execution_count": 48,
   "id": "d49c8d86",
   "metadata": {},
   "outputs": [],
   "source": [
    "from sklearn.linear_model import LinearRegression\n",
    "from sklearn.linear_model import Lasso\n",
    "from sklearn.linear_model import Ridge"
   ]
  },
  {
   "cell_type": "code",
   "execution_count": 122,
   "id": "0ad6c3d9",
   "metadata": {},
   "outputs": [],
   "source": [
    "from sklearn.neighbors import KNeighborsRegressor\n",
    "from sklearn.svm import SVR\n",
    "from sklearn.tree import DecisionTreeRegressor"
   ]
  },
  {
   "cell_type": "code",
   "execution_count": 49,
   "id": "c0473a12",
   "metadata": {},
   "outputs": [],
   "source": [
    "from sklearn.impute import SimpleImputer\n",
    "from sklearn.preprocessing import PolynomialFeatures, StandardScaler"
   ]
  },
  {
   "cell_type": "code",
   "execution_count": 50,
   "id": "7ee6d951",
   "metadata": {},
   "outputs": [],
   "source": [
    "from sklearn.pipeline import Pipeline"
   ]
  },
  {
   "cell_type": "code",
   "execution_count": null,
   "id": "7757c1a6",
   "metadata": {},
   "outputs": [],
   "source": []
  },
  {
   "cell_type": "code",
   "execution_count": 51,
   "id": "752029a9",
   "metadata": {},
   "outputs": [],
   "source": [
    "from sklearn.metrics import mean_squared_error"
   ]
  },
  {
   "cell_type": "code",
   "execution_count": 52,
   "id": "ea5fbfcd",
   "metadata": {},
   "outputs": [
    {
     "data": {
      "text/html": [
       "<div>\n",
       "<style scoped>\n",
       "    .dataframe tbody tr th:only-of-type {\n",
       "        vertical-align: middle;\n",
       "    }\n",
       "\n",
       "    .dataframe tbody tr th {\n",
       "        vertical-align: top;\n",
       "    }\n",
       "\n",
       "    .dataframe thead th {\n",
       "        text-align: right;\n",
       "    }\n",
       "</style>\n",
       "<table border=\"1\" class=\"dataframe\">\n",
       "  <thead>\n",
       "    <tr style=\"text-align: right;\">\n",
       "      <th></th>\n",
       "      <th>Ship Mode</th>\n",
       "      <th>Segment</th>\n",
       "      <th>City</th>\n",
       "      <th>State</th>\n",
       "      <th>Region</th>\n",
       "      <th>Category</th>\n",
       "      <th>Sub-Category</th>\n",
       "      <th>Quantity</th>\n",
       "      <th>Discount</th>\n",
       "      <th>Profit</th>\n",
       "      <th>Sales_log</th>\n",
       "    </tr>\n",
       "  </thead>\n",
       "  <tbody>\n",
       "    <tr>\n",
       "      <th>0</th>\n",
       "      <td>Second Class</td>\n",
       "      <td>Consumer</td>\n",
       "      <td>Henderson</td>\n",
       "      <td>Kentucky</td>\n",
       "      <td>South</td>\n",
       "      <td>Furniture</td>\n",
       "      <td>Bookcases</td>\n",
       "      <td>2</td>\n",
       "      <td>0.00</td>\n",
       "      <td>41.9136</td>\n",
       "      <td>5.568192</td>\n",
       "    </tr>\n",
       "    <tr>\n",
       "      <th>1</th>\n",
       "      <td>Second Class</td>\n",
       "      <td>Consumer</td>\n",
       "      <td>Henderson</td>\n",
       "      <td>Kentucky</td>\n",
       "      <td>South</td>\n",
       "      <td>Furniture</td>\n",
       "      <td>Chairs</td>\n",
       "      <td>3</td>\n",
       "      <td>0.00</td>\n",
       "      <td>219.5820</td>\n",
       "      <td>6.595699</td>\n",
       "    </tr>\n",
       "    <tr>\n",
       "      <th>2</th>\n",
       "      <td>Second Class</td>\n",
       "      <td>Corporate</td>\n",
       "      <td>Los Angeles</td>\n",
       "      <td>California</td>\n",
       "      <td>West</td>\n",
       "      <td>Office Supplies</td>\n",
       "      <td>Labels</td>\n",
       "      <td>2</td>\n",
       "      <td>0.00</td>\n",
       "      <td>6.8714</td>\n",
       "      <td>2.682390</td>\n",
       "    </tr>\n",
       "    <tr>\n",
       "      <th>3</th>\n",
       "      <td>Standard Class</td>\n",
       "      <td>Consumer</td>\n",
       "      <td>Fort Lauderdale</td>\n",
       "      <td>Florida</td>\n",
       "      <td>South</td>\n",
       "      <td>Furniture</td>\n",
       "      <td>Tables</td>\n",
       "      <td>5</td>\n",
       "      <td>0.45</td>\n",
       "      <td>-383.0310</td>\n",
       "      <td>6.864407</td>\n",
       "    </tr>\n",
       "    <tr>\n",
       "      <th>4</th>\n",
       "      <td>Standard Class</td>\n",
       "      <td>Consumer</td>\n",
       "      <td>Fort Lauderdale</td>\n",
       "      <td>Florida</td>\n",
       "      <td>South</td>\n",
       "      <td>Office Supplies</td>\n",
       "      <td>Storage</td>\n",
       "      <td>2</td>\n",
       "      <td>0.20</td>\n",
       "      <td>2.5164</td>\n",
       "      <td>3.107631</td>\n",
       "    </tr>\n",
       "  </tbody>\n",
       "</table>\n",
       "</div>"
      ],
      "text/plain": [
       "        Ship Mode    Segment             City       State Region  \\\n",
       "0    Second Class   Consumer        Henderson    Kentucky  South   \n",
       "1    Second Class   Consumer        Henderson    Kentucky  South   \n",
       "2    Second Class  Corporate      Los Angeles  California   West   \n",
       "3  Standard Class   Consumer  Fort Lauderdale     Florida  South   \n",
       "4  Standard Class   Consumer  Fort Lauderdale     Florida  South   \n",
       "\n",
       "          Category Sub-Category  Quantity  Discount    Profit  Sales_log  \n",
       "0        Furniture    Bookcases         2      0.00   41.9136   5.568192  \n",
       "1        Furniture       Chairs         3      0.00  219.5820   6.595699  \n",
       "2  Office Supplies       Labels         2      0.00    6.8714   2.682390  \n",
       "3        Furniture       Tables         5      0.45 -383.0310   6.864407  \n",
       "4  Office Supplies      Storage         2      0.20    2.5164   3.107631  "
      ]
     },
     "execution_count": 52,
     "metadata": {},
     "output_type": "execute_result"
    }
   ],
   "source": [
    "store1.head()"
   ]
  },
  {
   "cell_type": "code",
   "execution_count": 53,
   "id": "9f7ac9a0",
   "metadata": {},
   "outputs": [],
   "source": [
    "X = store1.drop(['Profit'],axis = 1)\n",
    "Y = store1['Profit']"
   ]
  },
  {
   "cell_type": "code",
   "execution_count": 54,
   "id": "d5b7a4a2",
   "metadata": {},
   "outputs": [],
   "source": [
    "# X = pd.get_dummies(X)"
   ]
  },
  {
   "cell_type": "code",
   "execution_count": 55,
   "id": "cc0d20b2",
   "metadata": {},
   "outputs": [
    {
     "data": {
      "text/html": [
       "<div>\n",
       "<style scoped>\n",
       "    .dataframe tbody tr th:only-of-type {\n",
       "        vertical-align: middle;\n",
       "    }\n",
       "\n",
       "    .dataframe tbody tr th {\n",
       "        vertical-align: top;\n",
       "    }\n",
       "\n",
       "    .dataframe thead th {\n",
       "        text-align: right;\n",
       "    }\n",
       "</style>\n",
       "<table border=\"1\" class=\"dataframe\">\n",
       "  <thead>\n",
       "    <tr style=\"text-align: right;\">\n",
       "      <th></th>\n",
       "      <th>Ship Mode</th>\n",
       "      <th>Segment</th>\n",
       "      <th>City</th>\n",
       "      <th>State</th>\n",
       "      <th>Region</th>\n",
       "      <th>Category</th>\n",
       "      <th>Sub-Category</th>\n",
       "      <th>Quantity</th>\n",
       "      <th>Discount</th>\n",
       "      <th>Sales_log</th>\n",
       "    </tr>\n",
       "  </thead>\n",
       "  <tbody>\n",
       "    <tr>\n",
       "      <th>0</th>\n",
       "      <td>2</td>\n",
       "      <td>0</td>\n",
       "      <td>194</td>\n",
       "      <td>15</td>\n",
       "      <td>2</td>\n",
       "      <td>0</td>\n",
       "      <td>4</td>\n",
       "      <td>2</td>\n",
       "      <td>0.00</td>\n",
       "      <td>5.568192</td>\n",
       "    </tr>\n",
       "    <tr>\n",
       "      <th>1</th>\n",
       "      <td>2</td>\n",
       "      <td>0</td>\n",
       "      <td>194</td>\n",
       "      <td>15</td>\n",
       "      <td>2</td>\n",
       "      <td>0</td>\n",
       "      <td>5</td>\n",
       "      <td>3</td>\n",
       "      <td>0.00</td>\n",
       "      <td>6.595699</td>\n",
       "    </tr>\n",
       "    <tr>\n",
       "      <th>2</th>\n",
       "      <td>2</td>\n",
       "      <td>1</td>\n",
       "      <td>266</td>\n",
       "      <td>3</td>\n",
       "      <td>3</td>\n",
       "      <td>1</td>\n",
       "      <td>10</td>\n",
       "      <td>2</td>\n",
       "      <td>0.00</td>\n",
       "      <td>2.682390</td>\n",
       "    </tr>\n",
       "    <tr>\n",
       "      <th>3</th>\n",
       "      <td>3</td>\n",
       "      <td>0</td>\n",
       "      <td>153</td>\n",
       "      <td>8</td>\n",
       "      <td>2</td>\n",
       "      <td>0</td>\n",
       "      <td>16</td>\n",
       "      <td>5</td>\n",
       "      <td>0.45</td>\n",
       "      <td>6.864407</td>\n",
       "    </tr>\n",
       "    <tr>\n",
       "      <th>4</th>\n",
       "      <td>3</td>\n",
       "      <td>0</td>\n",
       "      <td>153</td>\n",
       "      <td>8</td>\n",
       "      <td>2</td>\n",
       "      <td>1</td>\n",
       "      <td>14</td>\n",
       "      <td>2</td>\n",
       "      <td>0.20</td>\n",
       "      <td>3.107631</td>\n",
       "    </tr>\n",
       "  </tbody>\n",
       "</table>\n",
       "</div>"
      ],
      "text/plain": [
       "   Ship Mode  Segment  City  State  Region  Category  Sub-Category  Quantity  \\\n",
       "0          2        0   194     15       2         0             4         2   \n",
       "1          2        0   194     15       2         0             5         3   \n",
       "2          2        1   266      3       3         1            10         2   \n",
       "3          3        0   153      8       2         0            16         5   \n",
       "4          3        0   153      8       2         1            14         2   \n",
       "\n",
       "   Discount  Sales_log  \n",
       "0      0.00   5.568192  \n",
       "1      0.00   6.595699  \n",
       "2      0.00   2.682390  \n",
       "3      0.45   6.864407  \n",
       "4      0.20   3.107631  "
      ]
     },
     "execution_count": 55,
     "metadata": {},
     "output_type": "execute_result"
    }
   ],
   "source": [
    "from sklearn.preprocessing import LabelEncoder\n",
    "\n",
    "X_enc = X.copy()\n",
    "for col in ['Ship Mode','Segment','City','State','Region','Category','Sub-Category']:\n",
    "    le = LabelEncoder()\n",
    "    X_enc[col] = le.fit_transform(X[col].values)\n",
    "    \n",
    "X_enc.head()"
   ]
  },
  {
   "cell_type": "code",
   "execution_count": 56,
   "id": "3d5f3009",
   "metadata": {},
   "outputs": [],
   "source": [
    "from sklearn.model_selection import train_test_split\n",
    "X_train,X_test,Y_train,Y_test = train_test_split(X_enc,Y,test_size=0.3,random_state=1)"
   ]
  },
  {
   "cell_type": "markdown",
   "id": "3d0c5cbe",
   "metadata": {},
   "source": [
    "### 1. Linear Rgression"
   ]
  },
  {
   "cell_type": "code",
   "execution_count": 57,
   "id": "f7a3183c",
   "metadata": {},
   "outputs": [],
   "source": [
    "# lr = Pipeline([ # (Name, transformer)\n",
    "#                ('imputer', SimpleImputer()), \n",
    "#                ('poly_feats', PolynomialFeatures()), \n",
    "#                ('std_scaler', StandardScaler()),\n",
    "#                ('linear_regression', LinearRegression())])"
   ]
  },
  {
   "cell_type": "code",
   "execution_count": 58,
   "id": "40f03a1e",
   "metadata": {},
   "outputs": [],
   "source": [
    "lr = Pipeline([('scaler', StandardScaler()), \n",
    "               ('model', LinearRegression())])"
   ]
  },
  {
   "cell_type": "code",
   "execution_count": 59,
   "id": "eedf238b",
   "metadata": {},
   "outputs": [],
   "source": [
    "# X_train"
   ]
  },
  {
   "cell_type": "code",
   "execution_count": 60,
   "id": "22bfed8b",
   "metadata": {},
   "outputs": [
    {
     "data": {
      "text/plain": [
       "Pipeline(steps=[('scaler', StandardScaler()), ('model', LinearRegression())])"
      ]
     },
     "execution_count": 60,
     "metadata": {},
     "output_type": "execute_result"
    }
   ],
   "source": [
    "lr.fit(X_train,Y_train)"
   ]
  },
  {
   "cell_type": "code",
   "execution_count": 61,
   "id": "781be9f0",
   "metadata": {},
   "outputs": [
    {
     "data": {
      "text/plain": [
       "0.07048165158215192"
      ]
     },
     "execution_count": 61,
     "metadata": {},
     "output_type": "execute_result"
    }
   ],
   "source": [
    "lr.score(X_test,Y_test)"
   ]
  },
  {
   "cell_type": "code",
   "execution_count": 62,
   "id": "773b56af",
   "metadata": {},
   "outputs": [
    {
     "data": {
      "text/plain": [
       "0.10008290315139434"
      ]
     },
     "execution_count": 62,
     "metadata": {},
     "output_type": "execute_result"
    }
   ],
   "source": [
    "lr.score(X_train,Y_train)"
   ]
  },
  {
   "cell_type": "code",
   "execution_count": 63,
   "id": "61828d9d",
   "metadata": {},
   "outputs": [],
   "source": [
    "Y_pred = lr.predict(X_test)"
   ]
  },
  {
   "cell_type": "code",
   "execution_count": 64,
   "id": "6e0d6017",
   "metadata": {},
   "outputs": [
    {
     "data": {
      "text/plain": [
       "255.6596254323907"
      ]
     },
     "execution_count": 64,
     "metadata": {},
     "output_type": "execute_result"
    }
   ],
   "source": [
    "mse = mean_squared_error(Y_test,Y_pred)\n",
    "mse**(1/2)"
   ]
  },
  {
   "cell_type": "code",
   "execution_count": 65,
   "id": "cecd1a3b",
   "metadata": {},
   "outputs": [
    {
     "data": {
      "text/plain": [
       "1814     -8.5068\n",
       "881       8.3268\n",
       "1122      6.6584\n",
       "6807     35.6613\n",
       "2911     19.4580\n",
       "          ...   \n",
       "1287     11.1664\n",
       "2762     36.9170\n",
       "8820    311.9948\n",
       "462       7.0680\n",
       "2188     25.4730\n",
       "Name: Profit, Length: 2999, dtype: float64"
      ]
     },
     "execution_count": 65,
     "metadata": {},
     "output_type": "execute_result"
    }
   ],
   "source": [
    "Y_test"
   ]
  },
  {
   "cell_type": "code",
   "execution_count": 66,
   "id": "edb5cd34",
   "metadata": {},
   "outputs": [
    {
     "data": {
      "text/plain": [
       "array([-18.1579598 ,  15.00196966,  52.94535679, ..., 123.04533489,\n",
       "       -36.63623741,  56.89969477])"
      ]
     },
     "execution_count": 66,
     "metadata": {},
     "output_type": "execute_result"
    }
   ],
   "source": [
    "Y_pred"
   ]
  },
  {
   "cell_type": "code",
   "execution_count": null,
   "id": "c7fedbef",
   "metadata": {},
   "outputs": [],
   "source": []
  },
  {
   "cell_type": "code",
   "execution_count": null,
   "id": "a1faa8f4",
   "metadata": {},
   "outputs": [],
   "source": []
  },
  {
   "cell_type": "code",
   "execution_count": 67,
   "id": "48405899",
   "metadata": {},
   "outputs": [
    {
     "data": {
      "text/plain": [
       "Index(['Ship Mode', 'Segment', 'City', 'State', 'Region', 'Category',\n",
       "       'Sub-Category', 'Quantity', 'Discount', 'Sales_log'],\n",
       "      dtype='object')"
      ]
     },
     "execution_count": 67,
     "metadata": {},
     "output_type": "execute_result"
    }
   ],
   "source": [
    "features =  store1.drop(['Profit'],axis=1).columns\n",
    "features"
   ]
  },
  {
   "cell_type": "code",
   "execution_count": 68,
   "id": "4fe23393",
   "metadata": {},
   "outputs": [],
   "source": [
    "lr1 = LinearRegression()"
   ]
  },
  {
   "cell_type": "code",
   "execution_count": 69,
   "id": "9f17bd5c",
   "metadata": {},
   "outputs": [
    {
     "data": {
      "text/plain": [
       "LinearRegression()"
      ]
     },
     "execution_count": 69,
     "metadata": {},
     "output_type": "execute_result"
    }
   ],
   "source": [
    "lr1.fit(X_train,Y_train)"
   ]
  },
  {
   "cell_type": "code",
   "execution_count": 70,
   "id": "5d6210f3",
   "metadata": {},
   "outputs": [
    {
     "data": {
      "text/plain": [
       "array([ 3.65098811e-01,  6.76124773e+00,  1.28303112e-02, -1.31235656e-01,\n",
       "       -8.31918516e+00,  2.85428961e+01, -3.63331563e+00, -4.83468594e-02,\n",
       "       -2.18535111e+02,  2.64217271e+01])"
      ]
     },
     "execution_count": 70,
     "metadata": {},
     "output_type": "execute_result"
    }
   ],
   "source": [
    "lr1.coef_"
   ]
  },
  {
   "cell_type": "code",
   "execution_count": 71,
   "id": "427598b8",
   "metadata": {},
   "outputs": [
    {
     "data": {
      "text/html": [
       "<div>\n",
       "<style scoped>\n",
       "    .dataframe tbody tr th:only-of-type {\n",
       "        vertical-align: middle;\n",
       "    }\n",
       "\n",
       "    .dataframe tbody tr th {\n",
       "        vertical-align: top;\n",
       "    }\n",
       "\n",
       "    .dataframe thead th {\n",
       "        text-align: right;\n",
       "    }\n",
       "</style>\n",
       "<table border=\"1\" class=\"dataframe\">\n",
       "  <thead>\n",
       "    <tr style=\"text-align: right;\">\n",
       "      <th></th>\n",
       "      <th>coefficients</th>\n",
       "    </tr>\n",
       "  </thead>\n",
       "  <tbody>\n",
       "    <tr>\n",
       "      <th>Ship Mode</th>\n",
       "      <td>0.365099</td>\n",
       "    </tr>\n",
       "    <tr>\n",
       "      <th>Segment</th>\n",
       "      <td>6.761248</td>\n",
       "    </tr>\n",
       "    <tr>\n",
       "      <th>City</th>\n",
       "      <td>0.012830</td>\n",
       "    </tr>\n",
       "    <tr>\n",
       "      <th>State</th>\n",
       "      <td>-0.131236</td>\n",
       "    </tr>\n",
       "    <tr>\n",
       "      <th>Region</th>\n",
       "      <td>-8.319185</td>\n",
       "    </tr>\n",
       "    <tr>\n",
       "      <th>Category</th>\n",
       "      <td>28.542896</td>\n",
       "    </tr>\n",
       "    <tr>\n",
       "      <th>Sub-Category</th>\n",
       "      <td>-3.633316</td>\n",
       "    </tr>\n",
       "    <tr>\n",
       "      <th>Quantity</th>\n",
       "      <td>-0.048347</td>\n",
       "    </tr>\n",
       "    <tr>\n",
       "      <th>Discount</th>\n",
       "      <td>-218.535111</td>\n",
       "    </tr>\n",
       "    <tr>\n",
       "      <th>Sales_log</th>\n",
       "      <td>26.421727</td>\n",
       "    </tr>\n",
       "  </tbody>\n",
       "</table>\n",
       "</div>"
      ],
      "text/plain": [
       "              coefficients\n",
       "Ship Mode         0.365099\n",
       "Segment           6.761248\n",
       "City              0.012830\n",
       "State            -0.131236\n",
       "Region           -8.319185\n",
       "Category         28.542896\n",
       "Sub-Category     -3.633316\n",
       "Quantity         -0.048347\n",
       "Discount       -218.535111\n",
       "Sales_log        26.421727"
      ]
     },
     "execution_count": 71,
     "metadata": {},
     "output_type": "execute_result"
    }
   ],
   "source": [
    "df_coeff = pd.DataFrame(lr1.coef_,index=features,columns=['coefficients'])\n",
    "df_coeff"
   ]
  },
  {
   "cell_type": "code",
   "execution_count": 76,
   "id": "dcac9d52",
   "metadata": {},
   "outputs": [
    {
     "data": {
      "text/html": [
       "<div>\n",
       "<style scoped>\n",
       "    .dataframe tbody tr th:only-of-type {\n",
       "        vertical-align: middle;\n",
       "    }\n",
       "\n",
       "    .dataframe tbody tr th {\n",
       "        vertical-align: top;\n",
       "    }\n",
       "\n",
       "    .dataframe thead th {\n",
       "        text-align: right;\n",
       "    }\n",
       "</style>\n",
       "<table border=\"1\" class=\"dataframe\">\n",
       "  <thead>\n",
       "    <tr style=\"text-align: right;\">\n",
       "      <th></th>\n",
       "      <th>Ship Mode</th>\n",
       "      <th>Segment</th>\n",
       "      <th>City</th>\n",
       "      <th>Category</th>\n",
       "      <th>Sales_log</th>\n",
       "    </tr>\n",
       "  </thead>\n",
       "  <tbody>\n",
       "    <tr>\n",
       "      <th>0</th>\n",
       "      <td>2</td>\n",
       "      <td>0</td>\n",
       "      <td>194</td>\n",
       "      <td>0</td>\n",
       "      <td>5.568192</td>\n",
       "    </tr>\n",
       "    <tr>\n",
       "      <th>1</th>\n",
       "      <td>2</td>\n",
       "      <td>0</td>\n",
       "      <td>194</td>\n",
       "      <td>0</td>\n",
       "      <td>6.595699</td>\n",
       "    </tr>\n",
       "    <tr>\n",
       "      <th>2</th>\n",
       "      <td>2</td>\n",
       "      <td>1</td>\n",
       "      <td>266</td>\n",
       "      <td>1</td>\n",
       "      <td>2.682390</td>\n",
       "    </tr>\n",
       "    <tr>\n",
       "      <th>3</th>\n",
       "      <td>3</td>\n",
       "      <td>0</td>\n",
       "      <td>153</td>\n",
       "      <td>0</td>\n",
       "      <td>6.864407</td>\n",
       "    </tr>\n",
       "    <tr>\n",
       "      <th>4</th>\n",
       "      <td>3</td>\n",
       "      <td>0</td>\n",
       "      <td>153</td>\n",
       "      <td>1</td>\n",
       "      <td>3.107631</td>\n",
       "    </tr>\n",
       "  </tbody>\n",
       "</table>\n",
       "</div>"
      ],
      "text/plain": [
       "   Ship Mode  Segment  City  Category  Sales_log\n",
       "0          2        0   194         0   5.568192\n",
       "1          2        0   194         0   6.595699\n",
       "2          2        1   266         1   2.682390\n",
       "3          3        0   153         0   6.864407\n",
       "4          3        0   153         1   3.107631"
      ]
     },
     "execution_count": 76,
     "metadata": {},
     "output_type": "execute_result"
    }
   ],
   "source": [
    "X_enc1 = X_enc.drop(['Discount','Quantity','Region','State','Sub-Category'],axis=1)\n",
    "X_enc1.head()"
   ]
  },
  {
   "cell_type": "code",
   "execution_count": 77,
   "id": "7289a734",
   "metadata": {},
   "outputs": [],
   "source": [
    "from sklearn.model_selection import train_test_split\n",
    "X_train1,X_test1,Y_train1,Y_test1 = train_test_split(X_enc1,Y,test_size=0.3,random_state=1)"
   ]
  },
  {
   "cell_type": "code",
   "execution_count": 82,
   "id": "a31bb4d7",
   "metadata": {},
   "outputs": [],
   "source": [
    "lr2 = LinearRegression()"
   ]
  },
  {
   "cell_type": "code",
   "execution_count": 83,
   "id": "b4676df9",
   "metadata": {},
   "outputs": [
    {
     "data": {
      "text/plain": [
       "LinearRegression()"
      ]
     },
     "execution_count": 83,
     "metadata": {},
     "output_type": "execute_result"
    }
   ],
   "source": [
    "lr2.fit(X_train1,Y_train1)"
   ]
  },
  {
   "cell_type": "code",
   "execution_count": 84,
   "id": "f208f622",
   "metadata": {},
   "outputs": [
    {
     "data": {
      "text/plain": [
       "0.03007917279087069"
      ]
     },
     "execution_count": 84,
     "metadata": {},
     "output_type": "execute_result"
    }
   ],
   "source": [
    "lr2.score(X_test1,Y_test1)"
   ]
  },
  {
   "cell_type": "code",
   "execution_count": 113,
   "id": "476d5fb2",
   "metadata": {},
   "outputs": [
    {
     "data": {
      "text/plain": [
       "array([ 26.78003123,  14.78472018,  -3.93265466, ..., 145.21084288,\n",
       "       -18.24773707,   2.54018148])"
      ]
     },
     "execution_count": 113,
     "metadata": {},
     "output_type": "execute_result"
    }
   ],
   "source": [
    "Y_pred1 = lr2.predict(X_test1)\n",
    "Y_pred1"
   ]
  },
  {
   "cell_type": "code",
   "execution_count": 89,
   "id": "d8026317",
   "metadata": {},
   "outputs": [
    {
     "data": {
      "text/plain": [
       "1814     -8.5068\n",
       "881       8.3268\n",
       "1122      6.6584\n",
       "6807     35.6613\n",
       "2911     19.4580\n",
       "          ...   \n",
       "1287     11.1664\n",
       "2762     36.9170\n",
       "8820    311.9948\n",
       "462       7.0680\n",
       "2188     25.4730\n",
       "Name: Profit, Length: 2999, dtype: float64"
      ]
     },
     "execution_count": 89,
     "metadata": {},
     "output_type": "execute_result"
    }
   ],
   "source": [
    "Y_test1"
   ]
  },
  {
   "cell_type": "code",
   "execution_count": 114,
   "id": "a552f627",
   "metadata": {},
   "outputs": [
    {
     "data": {
      "text/plain": [
       "261.1567812634159"
      ]
     },
     "execution_count": 114,
     "metadata": {},
     "output_type": "execute_result"
    }
   ],
   "source": [
    "mse = mean_squared_error(Y_test1,Y_pred1)\n",
    "mse**(1/2)"
   ]
  },
  {
   "cell_type": "markdown",
   "id": "a8e2297c",
   "metadata": {},
   "source": [
    "### 2.Lasso"
   ]
  },
  {
   "cell_type": "code",
   "execution_count": 90,
   "id": "bcdd8bcf",
   "metadata": {},
   "outputs": [],
   "source": [
    "ls = Pipeline([('scaler', StandardScaler()), ('model', Lasso())])"
   ]
  },
  {
   "cell_type": "code",
   "execution_count": 91,
   "id": "f4aab6a0",
   "metadata": {},
   "outputs": [
    {
     "data": {
      "text/plain": [
       "Pipeline(steps=[('scaler', StandardScaler()), ('model', Lasso())])"
      ]
     },
     "execution_count": 91,
     "metadata": {},
     "output_type": "execute_result"
    }
   ],
   "source": [
    "ls.fit(X_train,Y_train)"
   ]
  },
  {
   "cell_type": "code",
   "execution_count": 92,
   "id": "960cddb2",
   "metadata": {},
   "outputs": [
    {
     "data": {
      "text/plain": [
       "0.07131566619832763"
      ]
     },
     "execution_count": 92,
     "metadata": {},
     "output_type": "execute_result"
    }
   ],
   "source": [
    "ls.score(X_test,Y_test)"
   ]
  },
  {
   "cell_type": "code",
   "execution_count": 116,
   "id": "f1ba676b",
   "metadata": {},
   "outputs": [],
   "source": [
    "Y_pred1_ls = ls.predict(X_test)"
   ]
  },
  {
   "cell_type": "code",
   "execution_count": 118,
   "id": "1e214592",
   "metadata": {
    "scrolled": true
   },
   "outputs": [
    {
     "data": {
      "text/plain": [
       "65303.19786080857"
      ]
     },
     "execution_count": 118,
     "metadata": {},
     "output_type": "execute_result"
    }
   ],
   "source": [
    "mse = mean_squared_error(Y_test,Y_pred1_ls)\n",
    "mse"
   ]
  },
  {
   "cell_type": "code",
   "execution_count": 95,
   "id": "737e6b4a",
   "metadata": {},
   "outputs": [
    {
     "data": {
      "text/plain": [
       "1814     -8.5068\n",
       "881       8.3268\n",
       "1122      6.6584\n",
       "6807     35.6613\n",
       "2911     19.4580\n",
       "          ...   \n",
       "1287     11.1664\n",
       "2762     36.9170\n",
       "8820    311.9948\n",
       "462       7.0680\n",
       "2188     25.4730\n",
       "Name: Profit, Length: 2999, dtype: float64"
      ]
     },
     "execution_count": 95,
     "metadata": {},
     "output_type": "execute_result"
    }
   ],
   "source": [
    "Y_test"
   ]
  },
  {
   "cell_type": "code",
   "execution_count": 117,
   "id": "a9d89a85",
   "metadata": {},
   "outputs": [
    {
     "data": {
      "text/plain": [
       "array([-15.369329  ,  18.41000843,  51.14959573, ..., 118.52996997,\n",
       "       -36.82427318,  54.95921695])"
      ]
     },
     "execution_count": 117,
     "metadata": {},
     "output_type": "execute_result"
    }
   ],
   "source": [
    "Y_pred1_ls"
   ]
  },
  {
   "cell_type": "code",
   "execution_count": 97,
   "id": "b797eb98",
   "metadata": {},
   "outputs": [],
   "source": [
    "ls1 = Lasso()"
   ]
  },
  {
   "cell_type": "code",
   "execution_count": 98,
   "id": "a68c2628",
   "metadata": {},
   "outputs": [
    {
     "data": {
      "text/plain": [
       "Lasso()"
      ]
     },
     "execution_count": 98,
     "metadata": {},
     "output_type": "execute_result"
    }
   ],
   "source": [
    "ls1.fit(X_train1,Y_train1)"
   ]
  },
  {
   "cell_type": "code",
   "execution_count": 100,
   "id": "b233097a",
   "metadata": {},
   "outputs": [
    {
     "data": {
      "text/plain": [
       "0.03085508647441404"
      ]
     },
     "execution_count": 100,
     "metadata": {},
     "output_type": "execute_result"
    }
   ],
   "source": [
    "ls1.score(X_test1,Y_test1)"
   ]
  },
  {
   "cell_type": "code",
   "execution_count": 120,
   "id": "458a6dbb",
   "metadata": {},
   "outputs": [],
   "source": [
    "Y_pred1_ls_2 = ls1.predict(X_test1)\n",
    "Y_pred1_ls_2"
   ]
  },
  {
   "cell_type": "code",
   "execution_count": 121,
   "id": "efa12c11",
   "metadata": {},
   "outputs": [
    {
     "data": {
      "text/plain": [
       "68148.30372412984"
      ]
     },
     "execution_count": 121,
     "metadata": {},
     "output_type": "execute_result"
    }
   ],
   "source": [
    "mse = mean_squared_error(Y_test,Y_pred1_ls_2)\n",
    "mse"
   ]
  },
  {
   "cell_type": "code",
   "execution_count": null,
   "id": "106cc4bf",
   "metadata": {},
   "outputs": [],
   "source": []
  },
  {
   "cell_type": "markdown",
   "id": "a066a26c",
   "metadata": {},
   "source": [
    "### 3.Ridge"
   ]
  },
  {
   "cell_type": "code",
   "execution_count": 101,
   "id": "1d8ff821",
   "metadata": {},
   "outputs": [],
   "source": [
    "rg = Pipeline([('scaler', StandardScaler()), ('model', Ridge())])"
   ]
  },
  {
   "cell_type": "code",
   "execution_count": 102,
   "id": "8ee0078e",
   "metadata": {},
   "outputs": [
    {
     "data": {
      "text/plain": [
       "Pipeline(steps=[('scaler', StandardScaler()), ('model', Ridge())])"
      ]
     },
     "execution_count": 102,
     "metadata": {},
     "output_type": "execute_result"
    }
   ],
   "source": [
    "rg.fit(X_train,Y_train)"
   ]
  },
  {
   "cell_type": "code",
   "execution_count": 103,
   "id": "fdcb6f54",
   "metadata": {},
   "outputs": [
    {
     "data": {
      "text/plain": [
       "0.07048185141121832"
      ]
     },
     "execution_count": 103,
     "metadata": {},
     "output_type": "execute_result"
    }
   ],
   "source": [
    "rg.score(X_test,Y_test)"
   ]
  },
  {
   "cell_type": "code",
   "execution_count": 104,
   "id": "2c5373ba",
   "metadata": {},
   "outputs": [],
   "source": [
    "Y_pred2 = rg.predict(X_test)"
   ]
  },
  {
   "cell_type": "code",
   "execution_count": 105,
   "id": "fa177013",
   "metadata": {},
   "outputs": [
    {
     "data": {
      "text/plain": [
       "65361.83002465586"
      ]
     },
     "execution_count": 105,
     "metadata": {},
     "output_type": "execute_result"
    }
   ],
   "source": [
    "mse = mean_squared_error(Y_test,Y_pred2)\n",
    "mse"
   ]
  },
  {
   "cell_type": "code",
   "execution_count": 106,
   "id": "6abadbca",
   "metadata": {},
   "outputs": [
    {
     "data": {
      "text/plain": [
       "1814     -8.5068\n",
       "881       8.3268\n",
       "1122      6.6584\n",
       "6807     35.6613\n",
       "2911     19.4580\n",
       "          ...   \n",
       "1287     11.1664\n",
       "2762     36.9170\n",
       "8820    311.9948\n",
       "462       7.0680\n",
       "2188     25.4730\n",
       "Name: Profit, Length: 2999, dtype: float64"
      ]
     },
     "execution_count": 106,
     "metadata": {},
     "output_type": "execute_result"
    }
   ],
   "source": [
    "Y_test"
   ]
  },
  {
   "cell_type": "code",
   "execution_count": 107,
   "id": "446076b6",
   "metadata": {},
   "outputs": [
    {
     "data": {
      "text/plain": [
       "array([-18.14864903,  15.00620926,  52.94359685, ..., 123.03094694,\n",
       "       -36.62398007,  56.88962342])"
      ]
     },
     "execution_count": 107,
     "metadata": {},
     "output_type": "execute_result"
    }
   ],
   "source": [
    "Y_pred2"
   ]
  },
  {
   "cell_type": "code",
   "execution_count": null,
   "id": "5f992541",
   "metadata": {},
   "outputs": [],
   "source": []
  },
  {
   "cell_type": "code",
   "execution_count": null,
   "id": "22291289",
   "metadata": {},
   "outputs": [],
   "source": []
  },
  {
   "cell_type": "code",
   "execution_count": null,
   "id": "b9c34347",
   "metadata": {},
   "outputs": [],
   "source": []
  },
  {
   "cell_type": "code",
   "execution_count": 108,
   "id": "b73fcd55",
   "metadata": {},
   "outputs": [],
   "source": [
    "rg1 = Ridge()"
   ]
  },
  {
   "cell_type": "code",
   "execution_count": 109,
   "id": "f4c902fc",
   "metadata": {},
   "outputs": [
    {
     "data": {
      "text/plain": [
       "Ridge()"
      ]
     },
     "execution_count": 109,
     "metadata": {},
     "output_type": "execute_result"
    }
   ],
   "source": [
    "rg1.fit(X_train1,Y_train1)"
   ]
  },
  {
   "cell_type": "code",
   "execution_count": 111,
   "id": "9e82632f",
   "metadata": {},
   "outputs": [
    {
     "data": {
      "text/plain": [
       "0.03008118244966318"
      ]
     },
     "execution_count": 111,
     "metadata": {},
     "output_type": "execute_result"
    }
   ],
   "source": [
    "rg1.score(X_test1,Y_test1)"
   ]
  },
  {
   "cell_type": "markdown",
   "id": "ae1d8b0a",
   "metadata": {},
   "source": [
    "### KNeighborsRegressor"
   ]
  },
  {
   "cell_type": "code",
   "execution_count": 123,
   "id": "7411d23b",
   "metadata": {},
   "outputs": [],
   "source": [
    "knn = KNeighborsRegressor()"
   ]
  },
  {
   "cell_type": "code",
   "execution_count": 124,
   "id": "40b2f168",
   "metadata": {},
   "outputs": [
    {
     "data": {
      "text/plain": [
       "KNeighborsRegressor()"
      ]
     },
     "execution_count": 124,
     "metadata": {},
     "output_type": "execute_result"
    }
   ],
   "source": [
    "knn.fit(X_train,Y_train)"
   ]
  },
  {
   "cell_type": "code",
   "execution_count": 126,
   "id": "7d09d68c",
   "metadata": {},
   "outputs": [
    {
     "data": {
      "text/plain": [
       "0.067122163473043"
      ]
     },
     "execution_count": 126,
     "metadata": {},
     "output_type": "execute_result"
    }
   ],
   "source": [
    "knn.score(X_test,Y_test)"
   ]
  },
  {
   "cell_type": "code",
   "execution_count": 129,
   "id": "6ef5bfff",
   "metadata": {},
   "outputs": [
    {
     "data": {
      "text/plain": [
       "array([   7.75978,   47.17216,   37.83036, ..., -103.38794,    3.21256,\n",
       "         59.33604])"
      ]
     },
     "execution_count": 129,
     "metadata": {},
     "output_type": "execute_result"
    }
   ],
   "source": [
    "Y_pred_knn = knn.predict(X_test)\n",
    "Y_pred_knn"
   ]
  },
  {
   "cell_type": "code",
   "execution_count": 130,
   "id": "d084e850",
   "metadata": {},
   "outputs": [
    {
     "data": {
      "text/plain": [
       "1814     -8.5068\n",
       "881       8.3268\n",
       "1122      6.6584\n",
       "6807     35.6613\n",
       "2911     19.4580\n",
       "          ...   \n",
       "1287     11.1664\n",
       "2762     36.9170\n",
       "8820    311.9948\n",
       "462       7.0680\n",
       "2188     25.4730\n",
       "Name: Profit, Length: 2999, dtype: float64"
      ]
     },
     "execution_count": 130,
     "metadata": {},
     "output_type": "execute_result"
    }
   ],
   "source": [
    "Y_test"
   ]
  },
  {
   "cell_type": "code",
   "execution_count": null,
   "id": "92a55e98",
   "metadata": {},
   "outputs": [],
   "source": []
  },
  {
   "cell_type": "code",
   "execution_count": 131,
   "id": "a34973b7",
   "metadata": {},
   "outputs": [],
   "source": [
    "knn1 = KNeighborsRegressor()"
   ]
  },
  {
   "cell_type": "code",
   "execution_count": 133,
   "id": "4a022e52",
   "metadata": {},
   "outputs": [
    {
     "data": {
      "text/plain": [
       "KNeighborsRegressor()"
      ]
     },
     "execution_count": 133,
     "metadata": {},
     "output_type": "execute_result"
    }
   ],
   "source": [
    "knn1.fit(X_train1,Y_train1)"
   ]
  },
  {
   "cell_type": "code",
   "execution_count": 134,
   "id": "361994c0",
   "metadata": {},
   "outputs": [
    {
     "data": {
      "text/plain": [
       "0.13074236102233117"
      ]
     },
     "execution_count": 134,
     "metadata": {},
     "output_type": "execute_result"
    }
   ],
   "source": [
    "knn1.score(X_test1,Y_test1)"
   ]
  },
  {
   "cell_type": "code",
   "execution_count": 135,
   "id": "671c98ec",
   "metadata": {},
   "outputs": [
    {
     "data": {
      "text/plain": [
       "array([ 27.19392,   5.1479 ,   7.5932 , ..., -83.90178, -10.96628,\n",
       "         6.87808])"
      ]
     },
     "execution_count": 135,
     "metadata": {},
     "output_type": "execute_result"
    }
   ],
   "source": [
    "Y_pred_knn1 = knn.predict(X_test1)\n",
    "Y_pred_knn1"
   ]
  },
  {
   "cell_type": "code",
   "execution_count": 139,
   "id": "2cd94337",
   "metadata": {},
   "outputs": [
    {
     "data": {
      "text/plain": [
       "1814     -8.5068\n",
       "881       8.3268\n",
       "1122      6.6584\n",
       "6807     35.6613\n",
       "2911     19.4580\n",
       "          ...   \n",
       "1287     11.1664\n",
       "2762     36.9170\n",
       "8820    311.9948\n",
       "462       7.0680\n",
       "2188     25.4730\n",
       "Name: Profit, Length: 2999, dtype: float64"
      ]
     },
     "execution_count": 139,
     "metadata": {},
     "output_type": "execute_result"
    }
   ],
   "source": [
    "Y_test1"
   ]
  },
  {
   "cell_type": "markdown",
   "id": "822a9246",
   "metadata": {},
   "source": [
    "### SVM regressor"
   ]
  },
  {
   "cell_type": "code",
   "execution_count": 140,
   "id": "871f41ab",
   "metadata": {},
   "outputs": [],
   "source": [
    "svr = SVR()"
   ]
  },
  {
   "cell_type": "code",
   "execution_count": 141,
   "id": "e999faa3",
   "metadata": {},
   "outputs": [
    {
     "data": {
      "text/plain": [
       "SVR()"
      ]
     },
     "execution_count": 141,
     "metadata": {},
     "output_type": "execute_result"
    }
   ],
   "source": [
    "svr.fit(X_train,Y_train)"
   ]
  },
  {
   "cell_type": "code",
   "execution_count": 143,
   "id": "5c11cdd4",
   "metadata": {},
   "outputs": [
    {
     "data": {
      "text/plain": [
       "-0.003711891228253217"
      ]
     },
     "execution_count": 143,
     "metadata": {},
     "output_type": "execute_result"
    }
   ],
   "source": [
    "svr.score(X_test,Y_test)"
   ]
  },
  {
   "cell_type": "code",
   "execution_count": null,
   "id": "38e3b079",
   "metadata": {},
   "outputs": [],
   "source": []
  }
 ],
 "metadata": {
  "kernelspec": {
   "display_name": "Python 3 (ipykernel)",
   "language": "python",
   "name": "python3"
  },
  "language_info": {
   "codemirror_mode": {
    "name": "ipython",
    "version": 3
   },
   "file_extension": ".py",
   "mimetype": "text/x-python",
   "name": "python",
   "nbconvert_exporter": "python",
   "pygments_lexer": "ipython3",
   "version": "3.9.13"
  }
 },
 "nbformat": 4,
 "nbformat_minor": 5
}
